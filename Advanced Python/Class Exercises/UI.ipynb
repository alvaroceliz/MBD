{
 "cells": [
  {
   "cell_type": "code",
   "execution_count": 11,
   "id": "caring-dimension",
   "metadata": {
    "scrolled": true
   },
   "outputs": [],
   "source": [
    "# %pip install ."
   ]
  },
  {
   "cell_type": "code",
   "execution_count": 36,
   "id": "honey-education",
   "metadata": {},
   "outputs": [],
   "source": [
    "import sys"
   ]
  },
  {
   "cell_type": "code",
   "execution_count": 37,
   "id": "special-foundation",
   "metadata": {},
   "outputs": [
    {
     "data": {
      "text/plain": [
       "'/srv/conda/envs/notebook'"
      ]
     },
     "execution_count": 37,
     "metadata": {},
     "output_type": "execute_result"
    }
   ],
   "source": [
    "sys.prefix"
   ]
  },
  {
   "cell_type": "code",
   "execution_count": 3,
   "id": "prepared-integrity",
   "metadata": {},
   "outputs": [],
   "source": [
    "from ie_utils import tokenize"
   ]
  },
  {
   "cell_type": "code",
   "execution_count": 4,
   "id": "gorgeous-water",
   "metadata": {},
   "outputs": [],
   "source": [
    "import ipywidgets as ipyw"
   ]
  },
  {
   "cell_type": "code",
   "execution_count": 8,
   "id": "powerful-herald",
   "metadata": {},
   "outputs": [],
   "source": [
    "from IPython.display import Markdown"
   ]
  },
  {
   "cell_type": "markdown",
   "id": "multiple-warehouse",
   "metadata": {},
   "source": [
    "# IE Tokenization UI\n",
    "\n",
    "Type your message below!"
   ]
  },
  {
   "cell_type": "code",
   "execution_count": 12,
   "id": "quick-upgrade",
   "metadata": {},
   "outputs": [],
   "source": [
    "# @ipyw.interact\n",
    "def do_tokenize(message=\"\"):\n",
    "    try:\n",
    "        tokens = tokenize(message)\n",
    "    except ValueError:\n",
    "        tokens = []\n",
    "\n",
    "    output = f\"**Number of tokens**: {len(tokens)}\"\n",
    "    display(Markdown(output))"
   ]
  },
  {
   "cell_type": "code",
   "execution_count": 13,
   "id": "excited-companion",
   "metadata": {},
   "outputs": [],
   "source": [
    "tokenize_widget = ipyw.interactive(do_tokenize)"
   ]
  },
  {
   "cell_type": "code",
   "execution_count": 15,
   "id": "twelve-belfast",
   "metadata": {},
   "outputs": [],
   "source": [
    "# tokenize_widget"
   ]
  },
  {
   "cell_type": "code",
   "execution_count": 27,
   "id": "similar-asian",
   "metadata": {},
   "outputs": [],
   "source": [
    "output_widget = ipyw.Output()"
   ]
  },
  {
   "cell_type": "code",
   "execution_count": 31,
   "id": "flying-rogers",
   "metadata": {},
   "outputs": [],
   "source": [
    "button = ipyw.Button(description=\"Press!\")"
   ]
  },
  {
   "cell_type": "code",
   "execution_count": 32,
   "id": "labeled-domestic",
   "metadata": {},
   "outputs": [],
   "source": [
    "def button_clicked(change):\n",
    "    with output_widget:\n",
    "        print(\"Clicked the button\")"
   ]
  },
  {
   "cell_type": "code",
   "execution_count": 33,
   "id": "backed-aerospace",
   "metadata": {},
   "outputs": [],
   "source": [
    "button.on_click(button_clicked)"
   ]
  },
  {
   "cell_type": "code",
   "execution_count": 34,
   "id": "subject-minimum",
   "metadata": {},
   "outputs": [],
   "source": [
    "vbox = ipyw.VBox([tokenize_widget, button, output_widget])"
   ]
  },
  {
   "cell_type": "code",
   "execution_count": 35,
   "id": "original-advancement",
   "metadata": {},
   "outputs": [
    {
     "data": {
      "application/vnd.jupyter.widget-view+json": {
       "model_id": "e3f80e226d8945ceb4b929c9fbe006c3",
       "version_major": 2,
       "version_minor": 0
      },
      "text/plain": [
       "Tab(children=(VBox(children=(interactive(children=(Text(value='hello world', description='message'), Output(ou…"
      ]
     },
     "metadata": {},
     "output_type": "display_data"
    }
   ],
   "source": [
    "ui = ipyw.Tab(children=[vbox])\n",
    "ui.set_title(0, \"Tokenization\")\n",
    "ui"
   ]
  }
 ],
 "metadata": {
  "kernelspec": {
   "display_name": "Python 3",
   "language": "python",
   "name": "python3"
  },
  "language_info": {
   "codemirror_mode": {
    "name": "ipython",
    "version": 3
   },
   "file_extension": ".py",
   "mimetype": "text/x-python",
   "name": "python",
   "nbconvert_exporter": "python",
   "pygments_lexer": "ipython3",
   "version": "3.7.3"
  }
 },
 "nbformat": 4,
 "nbformat_minor": 5
}
