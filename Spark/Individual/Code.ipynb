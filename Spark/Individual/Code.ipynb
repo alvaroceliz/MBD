{
 "cells": [
  {
   "cell_type": "markdown",
   "metadata": {},
   "source": [
    "# Hotel Booking Demand (July 2015 - August 2017)\n",
    "\n",
    "Booking analysis is going to be performed as follows:\n",
    "\n",
    "1. PySpark **environment setup**\n",
    "2. Data source and **Spark data abstraction** (DataFrame) **set up**\n",
    "3. Data set **metadata analysis**:\n",
    "  1. Display **schema and size** of the DataFrame\n",
    "  2. Data cleaning and formatting\n",
    "  3. Get one or multiple **random samples** from the data set to better understand what the data is all about\n",
    "  4. Identify **data entities**, **metrics** and **dimensions**\n",
    "  5. **Columns/fields categorization**\n",
    "4. Columns groups **basic profiling** to better understand our data set:\n",
    "  1. **Timing related** columns basic profiling\n",
    "  2. **Booking related** columns basic profiling\n",
    "5. **Answer some business questions** to improve service\n",
    "  1. **Ratio of bookings** per season\n",
    "  2. **Season cancellation statistics** by different characteristics (days, people, changes and lead time)\n",
    "  3. **Top 20 countries** with more bookings in Warm Seasons (Spring and Summer)\n",
    "\n",
    "Let's go for it:\n",
    "\n",
    "## 1. PySpark environment setup"
   ]
  },
  {
   "cell_type": "code",
   "execution_count": 2,
   "metadata": {},
   "outputs": [],
   "source": [
    "import findspark\n",
    "findspark.init()\n",
    "\n",
    "from pyspark.context import SparkContext\n",
    "from pyspark.sql.session import SparkSession\n",
    "\n",
    "sc = SparkContext.getOrCreate()\n",
    "spark = SparkSession(sc)"
   ]
  },
  {
   "cell_type": "markdown",
   "metadata": {},
   "source": [
    "## 2. Data source and Spark data abstraction (DataFrame) setup"
   ]
  },
  {
   "cell_type": "code",
   "execution_count": 3,
   "metadata": {},
   "outputs": [],
   "source": [
    "bookingsDF = spark.read \\\n",
    "                  .option(\"inferSchema\", \"true\") \\\n",
    "                  .option(\"header\", \"true\") \\\n",
    "                  .csv(\"hotel_bookings.csv\")"
   ]
  },
  {
   "cell_type": "markdown",
   "metadata": {},
   "source": [
    "## 3. Data set metadata analysis\n",
    "### A. Display schema and size of the DataFrame"
   ]
  },
  {
   "cell_type": "code",
   "execution_count": 4,
   "metadata": {
    "scrolled": false
   },
   "outputs": [
    {
     "name": "stdout",
     "output_type": "stream",
     "text": [
      "root\n",
      " |-- hotel: string (nullable = true)\n",
      " |-- is_canceled: integer (nullable = true)\n",
      " |-- lead_time: integer (nullable = true)\n",
      " |-- arrival_date_year: integer (nullable = true)\n",
      " |-- arrival_date_month: string (nullable = true)\n",
      " |-- arrival_date_week_number: integer (nullable = true)\n",
      " |-- arrival_date_day_of_month: integer (nullable = true)\n",
      " |-- stays_in_weekend_nights: integer (nullable = true)\n",
      " |-- stays_in_week_nights: integer (nullable = true)\n",
      " |-- adults: integer (nullable = true)\n",
      " |-- children: string (nullable = true)\n",
      " |-- babies: integer (nullable = true)\n",
      " |-- meal: string (nullable = true)\n",
      " |-- country: string (nullable = true)\n",
      " |-- market_segment: string (nullable = true)\n",
      " |-- distribution_channel: string (nullable = true)\n",
      " |-- is_repeated_guest: integer (nullable = true)\n",
      " |-- previous_cancellations: integer (nullable = true)\n",
      " |-- previous_bookings_not_canceled: integer (nullable = true)\n",
      " |-- reserved_room_type: string (nullable = true)\n",
      " |-- assigned_room_type: string (nullable = true)\n",
      " |-- booking_changes: integer (nullable = true)\n",
      " |-- deposit_type: string (nullable = true)\n",
      " |-- agent: string (nullable = true)\n",
      " |-- company: string (nullable = true)\n",
      " |-- days_in_waiting_list: integer (nullable = true)\n",
      " |-- customer_type: string (nullable = true)\n",
      " |-- adr: double (nullable = true)\n",
      " |-- required_car_parking_spaces: integer (nullable = true)\n",
      " |-- total_of_special_requests: integer (nullable = true)\n",
      " |-- reservation_status: string (nullable = true)\n",
      " |-- reservation_status_date: string (nullable = true)\n",
      "\n"
     ]
    },
    {
     "data": {
      "text/markdown": [
       "This DataFrame has **119390 rows**."
      ],
      "text/plain": [
       "<IPython.core.display.Markdown object>"
      ]
     },
     "metadata": {},
     "output_type": "display_data"
    }
   ],
   "source": [
    "from IPython.display import display, Markdown\n",
    "\n",
    "bookingsDF.printSchema()\n",
    "display(Markdown(\"This DataFrame has **%d rows**.\" % bookingsDF.count()))"
   ]
  },
  {
   "cell_type": "markdown",
   "metadata": {},
   "source": [
    "### B. Data cleaning & formatting"
   ]
  },
  {
   "cell_type": "code",
   "execution_count": 5,
   "metadata": {},
   "outputs": [],
   "source": [
    "# Converting the month (string) to an integer\n",
    "from pyspark.sql.functions import when, count, col, countDistinct, desc, first\n",
    "bookingsFinalDF = bookingsDF\\\n",
    "   .where(col(\"arrival_date_month\")!=\"NA\")\\\n",
    "   .withColumn(\"month\", when(col(\"arrival_date_month\")==\"January\",1)\\\n",
    "                       .when((col(\"arrival_date_month\")==\"February\"),2)\\\n",
    "                       .when((col(\"arrival_date_month\")==\"March\"),3)\\\n",
    "                       .when((col(\"arrival_date_month\")==\"April\"),4)\\\n",
    "                       .when((col(\"arrival_date_month\")==\"May\"),5)\\\n",
    "                       .when((col(\"arrival_date_month\")==\"June\"),6)\\\n",
    "                       .when((col(\"arrival_date_month\")==\"July\"),7)\\\n",
    "                       .when((col(\"arrival_date_month\")==\"August\"),8)\\\n",
    "                       .when((col(\"arrival_date_month\")==\"September\"),9)\\\n",
    "                       .when((col(\"arrival_date_month\")==\"October\"),10)\\\n",
    "                       .when((col(\"arrival_date_month\")==\"November\"),11)\\\n",
    "                       .otherwise(12))\n",
    "\n",
    "# Deleting some columns with null values and non-relevant columns\n",
    "columns_to_drop = [\"market_segment\", \"distribution_channel\", \"deposit_type\", \"agent\", \\\n",
    "                   \"company\", \"customer_type\", \"adr\"]\n",
    "bookingsFinalDF = bookingsFinalDF.drop(*columns_to_drop)"
   ]
  },
  {
   "cell_type": "markdown",
   "metadata": {},
   "source": [
    "### C. Get one or multiple random samples from the data set"
   ]
  },
  {
   "cell_type": "code",
   "execution_count": 6,
   "metadata": {},
   "outputs": [
    {
     "data": {
      "text/plain": [
       "[Row(hotel='Resort Hotel', is_canceled=0, lead_time=78, arrival_date_year=2015, arrival_date_month='July', arrival_date_week_number=27, arrival_date_day_of_month=1, stays_in_weekend_nights=2, stays_in_week_nights=5, adults=2, children='0', babies=0, meal='BB', country='PRT', is_repeated_guest=0, previous_cancellations=0, previous_bookings_not_canceled=0, reserved_room_type='D', assigned_room_type='D', booking_changes=0, days_in_waiting_list=0, required_car_parking_spaces=1, total_of_special_requests=0, reservation_status='Check-Out', reservation_status_date='2015-07-08', month=7),\n",
       " Row(hotel='Resort Hotel', is_canceled=0, lead_time=1, arrival_date_year=2015, arrival_date_month='July', arrival_date_week_number=27, arrival_date_day_of_month=2, stays_in_weekend_nights=0, stays_in_week_nights=1, adults=2, children='2', babies=0, meal='BB', country='ESP', is_repeated_guest=0, previous_cancellations=0, previous_bookings_not_canceled=0, reserved_room_type='C', assigned_room_type='C', booking_changes=0, days_in_waiting_list=0, required_car_parking_spaces=1, total_of_special_requests=2, reservation_status='Check-Out', reservation_status_date='2015-07-03', month=7)]"
      ]
     },
     "execution_count": 6,
     "metadata": {},
     "output_type": "execute_result"
    }
   ],
   "source": [
    "bookingsFinalDF.cache() # Optimization to make the processing faster\n",
    "bookingsFinalDF.sample(False, 0.1).take(2)"
   ]
  },
  {
   "cell_type": "markdown",
   "metadata": {},
   "source": [
    "### D. Data entities, metrics and dimensions\n",
    "\n",
    "I've identified the following elements:\n",
    "\n",
    "* **Entities:** Booking (main one which is measured - facts), Country (dimension), Date (dimension)\n",
    "* **Metrics:** Number of days (weekend and weekday), Number of people (adults and children), Arrival Season, ...\n",
    "* **Dimensions:** Type of hotel, Room Type, Type of Meal, Reservation Status, ...\n",
    "\n",
    "### E. Column categorization\n",
    "\n",
    "The following could be a potential column categorization:\n",
    "\n",
    "* **Timing related columns:** *arrival_date_year*, *month*, *arrival_date_day_of_month*, arrival_date_week_number and *reservation_status_date*\n",
    "* **Booking related columns:** *hotel*, *is_canceled*, *lead_time*, *stays_in_weekend_nights*, *stays_in_week_nights*, *adults*, *children*, *babies*, *meal*, *country*, *is_repeated_guest*, *previous_cancellations*, *previous_bookings_not_canceled*, *reserved_room_type*, *assigned_room_type*, *booking_changes*, *days_in_waiting_list*, *required_car_parking_spaces*, *total_of_special_requests* and *reservation_status*\n",
    "\n",
    "## 4. Columns groups basic profiling to better understand our data set\n",
    "### A. Timing related columns basic profiling"
   ]
  },
  {
   "cell_type": "code",
   "execution_count": 7,
   "metadata": {},
   "outputs": [
    {
     "name": "stdout",
     "output_type": "stream",
     "text": [
      "Summary of columns Year, Month, DayofMonth, NumberOfWeek:\n",
      "+-------+------------------+-----------------+-------------------------+------------------------+\n",
      "|summary| arrival_date_year|            month|arrival_date_day_of_month|arrival_date_week_number|\n",
      "+-------+------------------+-----------------+-------------------------+------------------------+\n",
      "|  count|            119390|           119390|                   119390|                  119390|\n",
      "|   mean| 2016.156554150264|6.552483457576011|       15.798241058715135|       27.16517296255968|\n",
      "| stddev|0.7074759445220408|3.090618686900272|        8.780829470578343|      13.605138355497665|\n",
      "|    min|              2015|                1|                        1|                       1|\n",
      "|    25%|              2016|                4|                        8|                      16|\n",
      "|    50%|              2016|                7|                       16|                      28|\n",
      "|    75%|              2017|                9|                       23|                      38|\n",
      "|    max|              2017|               12|                       31|                      53|\n",
      "+-------+------------------+-----------------+-------------------------+------------------------+\n",
      "\n",
      "Checking for nulls on columns Year, Month, DayofMonth, NumberOfWeek:\n",
      "+-----------------+-----+-------------------------+------------------------+\n",
      "|arrival_date_year|month|arrival_date_day_of_month|arrival_date_week_number|\n",
      "+-----------------+-----+-------------------------+------------------------+\n",
      "|                0|    0|                        0|                       0|\n",
      "+-----------------+-----+-------------------------+------------------------+\n",
      "\n",
      "Checking amount of distinct values in columns Year, Month, DayofMonth, NumberOfWeek:\n",
      "+-----------------+-----+-------------------------+------------------------+\n",
      "|arrival_date_year|month|arrival_date_day_of_month|arrival_date_week_number|\n",
      "+-----------------+-----+-------------------------+------------------------+\n",
      "|                3|   12|                       31|                      53|\n",
      "+-----------------+-----+-------------------------+------------------------+\n",
      "\n",
      "Most and least frequent occurrences for Month and DayOfMonth columns:\n"
     ]
    },
    {
     "data": {
      "text/markdown": [
       "\n",
       "| leastFreqMonth | mostFreqMonth | leastFreqDayOfMonth | mostFreqDayOfMonth |\n",
       "|----|----|----|----|\n",
       "| 1 (5929 occurrences) | 8 (13877 occurrences) | 31 (2208 occurrences) | 17 (4406 occurrences) |\n"
      ],
      "text/plain": [
       "<IPython.core.display.Markdown object>"
      ]
     },
     "metadata": {},
     "output_type": "display_data"
    }
   ],
   "source": [
    "from IPython.display import display, Markdown\n",
    "from pyspark.sql.functions import when, count, col, countDistinct, desc, first, lit\n",
    "\n",
    "\n",
    "print (\"Summary of columns Year, Month, DayofMonth, NumberOfWeek:\")\n",
    "bookingsFinalDF.select(\"arrival_date_year\",\"month\",\"arrival_date_day_of_month\",\"arrival_date_week_number\").summary().show()\n",
    "\n",
    "print(\"Checking for nulls on columns Year, Month, DayofMonth, NumberOfWeek:\")\n",
    "bookingsFinalDF.select([count(when(col(c).isNull(), c)).alias(c) for c in [\"arrival_date_year\",\"month\",\\\n",
    "                                                                           \"arrival_date_day_of_month\", \\\n",
    "                                                                           \"arrival_date_week_number\"]]).show()\n",
    "\n",
    "print(\"Checking amount of distinct values in columns Year, Month, DayofMonth, NumberOfWeek:\")\n",
    "bookingsFinalDF.select([countDistinct(c).alias(c) for c in [\"arrival_date_year\",\"month\",\"arrival_date_day_of_month\",\\\n",
    "                                                            \"arrival_date_week_number\"]]).show()\n",
    "\n",
    "print (\"Most and least frequent occurrences for Month and DayOfMonth columns:\")\n",
    "MonthOccurrencesDF = bookingsFinalDF.groupBy(\"month\").agg(count(lit(1)).alias(\"Total\"))\n",
    "dayOfMonthDF       = bookingsFinalDF.groupBy(\"arrival_date_day_of_month\").agg(count(lit(1)).alias(\"Total\"))\n",
    "\n",
    "leastFreqMonth      = MonthOccurrencesDF.orderBy(col(\"Total\").asc()).first()\n",
    "mostFreqMonth       = MonthOccurrencesDF.orderBy(col(\"Total\").desc()).first()\n",
    "leastFreqDayOfMonth = dayOfMonthDF.orderBy(col(\"Total\").asc()).first()\n",
    "mostFreqDayOfMonth  = dayOfMonthDF.orderBy(col(\"Total\").desc()).first()\n",
    "\n",
    "display(Markdown(\"\"\"\n",
    "| %s | %s | %s | %s |\n",
    "|----|----|----|----|\n",
    "| %s | %s | %s | %s |\n",
    "\"\"\" % (\"leastFreqMonth\", \"mostFreqMonth\", \"leastFreqDayOfMonth\", \"mostFreqDayOfMonth\", \\\n",
    "       \"%d (%d occurrences)\" % (leastFreqMonth[\"month\"], leastFreqMonth[\"Total\"]), \\\n",
    "       \"%d (%d occurrences)\" % (mostFreqMonth[\"month\"], mostFreqMonth[\"Total\"]), \\\n",
    "       \"%d (%d occurrences)\" % (leastFreqDayOfMonth[\"arrival_date_day_of_month\"], leastFreqDayOfMonth[\"Total\"]), \\\n",
    "       \"%d (%d occurrences)\" % (mostFreqDayOfMonth[\"arrival_date_day_of_month\"], mostFreqDayOfMonth[\"Total\"]))))"
   ]
  },
  {
   "cell_type": "markdown",
   "metadata": {},
   "source": [
    "### B. Booking related columns basic profiling"
   ]
  },
  {
   "cell_type": "code",
   "execution_count": 8,
   "metadata": {},
   "outputs": [
    {
     "name": "stdout",
     "output_type": "stream",
     "text": [
      "Summary of columns Weekend nights, Week nights, Number of adults, Number of children, Number of babies:\n",
      "+-------+-----------------------+--------------------+------------------+-------------------+--------------------+\n",
      "|summary|stays_in_weekend_nights|stays_in_week_nights|            adults|           children|              babies|\n",
      "+-------+-----------------------+--------------------+------------------+-------------------+--------------------+\n",
      "|  count|                 119390|              119390|            119390|             119390|              119390|\n",
      "|   mean|     0.9275986263506156|   2.500301532791691|1.8564033838679956|0.10388990333874994|0.007948739425412514|\n",
      "| stddev|     0.9986134945978791|  1.9082856150479042|0.5792609988327531| 0.3985614447864427|  0.0974361913012642|\n",
      "|    min|                      0|                   0|                 0|                  0|                   0|\n",
      "|    25%|                      0|                   1|                 2|                0.0|                   0|\n",
      "|    50%|                      1|                   2|                 2|                0.0|                   0|\n",
      "|    75%|                      2|                   3|                 2|                0.0|                   0|\n",
      "|    max|                     19|                  50|                55|                 NA|                  10|\n",
      "+-------+-----------------------+--------------------+------------------+-------------------+--------------------+\n",
      "\n",
      "Checking for nulls on columns Hotel, Weekend nights, Week nights, Number of adults, Number of children, Number of babies:\n",
      "+-----+-----------------------+--------------------+------+--------+------+\n",
      "|hotel|stays_in_weekend_nights|stays_in_week_nights|adults|children|babies|\n",
      "+-----+-----------------------+--------------------+------+--------+------+\n",
      "|    0|                      0|                   0|     0|       0|     0|\n",
      "+-----+-----------------------+--------------------+------+--------+------+\n",
      "\n",
      "Checking amount of distinct values in columns Hotel, Weekend nights, Week nights, Number of adults, Number of children, Number of babies:\n",
      "+-----+-----------------------+--------------------+------+--------+------+\n",
      "|hotel|stays_in_weekend_nights|stays_in_week_nights|adults|children|babies|\n",
      "+-----+-----------------------+--------------------+------+--------+------+\n",
      "|    2|                     17|                  35|    14|       6|     5|\n",
      "+-----+-----------------------+--------------------+------+--------+------+\n",
      "\n",
      "Most and least frequent occurrences for Weekend nights, Week nights, Number of adults, Number of children, Number of babies:\n"
     ]
    },
    {
     "data": {
      "text/markdown": [
       "\n",
       "| leastFreqTotalWeekendNights | mostFreqTotalWeekendNights | leastFreqTotalWeekNights | mostFreqTotalWeekNights |\n",
       "|----|----|----|----|\n",
       "| 19 (1 occurrences) | 0 (51998 occurrences) | 26 (1 occurrences) | 2 (33684 occurrences) |\n"
      ],
      "text/plain": [
       "<IPython.core.display.Markdown object>"
      ]
     },
     "metadata": {},
     "output_type": "display_data"
    },
    {
     "data": {
      "text/markdown": [
       "\n",
       "| leastFreqAdults | mostFreqAdults | leastFreqChildren | mostFreqChildren | leastFreqBabies | mostFreqBabies |\n",
       "|----|----|----|----|----|----|\n",
       "| 6 (1 occurrences) | 2 (89680 occurrences) | 10 (1 occurrences) | 0 (110796 occurrences) | 9 (1 occurrences) | 0 (118473 occurrences) |\n"
      ],
      "text/plain": [
       "<IPython.core.display.Markdown object>"
      ]
     },
     "metadata": {},
     "output_type": "display_data"
    },
    {
     "name": "stdout",
     "output_type": "stream",
     "text": [
      "Summary of columns RepeatedGuest, PreviousCancellations, PreviousBookingsNotCancelled, DaysInWaitingList, RequiredCarParkingSpaces and TotalOfSpecialRequests:\n",
      "+-------+-------------------+----------------------+--------------------+---------------------------+-------------------------+\n",
      "|summary|  is_repeated_guest|previous_cancellations|days_in_waiting_list|required_car_parking_spaces|total_of_special_requests|\n",
      "+-------+-------------------+----------------------+--------------------+---------------------------+-------------------------+\n",
      "|  count|             119390|                119390|              119390|                     119390|                   119390|\n",
      "|   mean|0.03191222045397437|   0.08711784906608594|   2.321149174972778|        0.06251779881062065|       0.5713627607002262|\n",
      "| stddev|0.17576714541065672|    0.8443363841545121|  17.594720878776243|        0.24529114746749414|       0.7927984228094107|\n",
      "|    min|                  0|                     0|                   0|                          0|                        0|\n",
      "|    25%|                  0|                     0|                   0|                          0|                        0|\n",
      "|    50%|                  0|                     0|                   0|                          0|                        0|\n",
      "|    75%|                  0|                     0|                   0|                          0|                        1|\n",
      "|    max|                  1|                    26|                 391|                          8|                        5|\n",
      "+-------+-------------------+----------------------+--------------------+---------------------------+-------------------------+\n",
      "\n",
      "Checking for nulls on columns RepeatedGuest, PreviousCancellations, PreviousBookingsNotCancelled, DaysInWaitingList, RequiredCarParkingSpaces and TotalOfSpecialRequests:\n",
      "+-----------------+----------------------+--------------------+---------------------------+-------------------------+\n",
      "|is_repeated_guest|previous_cancellations|days_in_waiting_list|required_car_parking_spaces|total_of_special_requests|\n",
      "+-----------------+----------------------+--------------------+---------------------------+-------------------------+\n",
      "|                0|                     0|                   0|                          0|                        0|\n",
      "+-----------------+----------------------+--------------------+---------------------------+-------------------------+\n",
      "\n",
      "Checking amount of distinct values in columns RepeatedGuest, PreviousCancellations, PreviousBookingsNotCancelled, DaysInWaitingList, RequiredCarParkingSpaces and TotalOfSpecialRequests:\n",
      "+-----------------+----------------------+--------------------+---------------------------+-------------------------+\n",
      "|is_repeated_guest|previous_cancellations|days_in_waiting_list|required_car_parking_spaces|total_of_special_requests|\n",
      "+-----------------+----------------------+--------------------+---------------------------+-------------------------+\n",
      "|                2|                    15|                 128|                          5|                        6|\n",
      "+-----------------+----------------------+--------------------+---------------------------+-------------------------+\n",
      "\n"
     ]
    }
   ],
   "source": [
    "from IPython.display import display, Markdown\n",
    "from pyspark.sql.functions import when, count, col, countDistinct, desc, first\n",
    "\n",
    "print (\"Summary of columns Weekend nights, Week nights, Number of adults, Number of children, Number of babies:\")\n",
    "bookingsFinalDF.select(\"stays_in_weekend_nights\", \"stays_in_week_nights\", \"adults\", \"children\",\"babies\").summary().show()\n",
    "\n",
    "print(\"Checking for nulls on columns Hotel, Weekend nights, Week nights, Number of adults, Number of children, Number of babies:\")\n",
    "bookingsFinalDF.select([count(when(col(c).isNull(), c)).alias(c) for c in [\"hotel\", \"stays_in_weekend_nights\", \"stays_in_week_nights\", \"adults\", \"children\", \"babies\"]]).show()\n",
    "\n",
    "print(\"Checking amount of distinct values in columns Hotel, Weekend nights, Week nights, Number of adults, Number of children, Number of babies:\")\n",
    "bookingsFinalDF.select([countDistinct(c).alias(c) for c in [\"hotel\", \"stays_in_weekend_nights\", \"stays_in_week_nights\", \"adults\", \"children\", \"babies\"]]).show()\n",
    "\n",
    "print (\"Most and least frequent occurrences for Weekend nights, Week nights, Number of adults, Number of children, Number of babies:\")\n",
    "TotalWeekendNightsDF = bookingsFinalDF.groupBy(\"stays_in_weekend_nights\").agg(count(lit(1)).alias(\"Total\"))\n",
    "TotalWeekNightsDF    = bookingsFinalDF.groupBy(\"stays_in_week_nights\").agg(count(lit(1)).alias(\"Total\"))\n",
    "AdultsDF             = bookingsFinalDF.groupBy(\"adults\").agg(count(lit(1)).alias(\"Total\"))\n",
    "ChildrenDF           = bookingsFinalDF.groupBy(\"children\").agg(count(lit(1)).alias(\"Total\"))\n",
    "BabiesDF             = bookingsFinalDF.groupBy(\"babies\").agg(count(lit(1)).alias(\"Total\"))\n",
    "\n",
    "leastFreqTotalWeekendNights    = TotalWeekendNightsDF.orderBy(col(\"Total\").asc()).first()\n",
    "mostFreqTotalWeekendNights     = TotalWeekendNightsDF.orderBy(col(\"Total\").desc()).first()\n",
    "leastFreqTotalWeekNights       = TotalWeekNightsDF.orderBy(col(\"Total\").asc()).first()\n",
    "mostFreqTotalWeekNights        = TotalWeekNightsDF.orderBy(col(\"Total\").desc()).first()\n",
    "leastFreqAdults                = AdultsDF.orderBy(col(\"Total\").asc()).first()\n",
    "mostFreqAdults                 = AdultsDF.orderBy(col(\"Total\").desc()).first()\n",
    "leastFreqChildren              = ChildrenDF.orderBy(col(\"Total\").asc()).first()\n",
    "mostFreqChildren               = ChildrenDF.orderBy(col(\"Total\").desc()).first()\n",
    "leastFreqBabies                = BabiesDF.orderBy(col(\"Total\").asc()).first()\n",
    "mostFreqBabies                 = BabiesDF.orderBy(col(\"Total\").desc()).first()\n",
    "\n",
    "display(Markdown(\"\"\"\n",
    "| %s | %s | %s | %s |\n",
    "|----|----|----|----|\n",
    "| %s | %s | %s | %s |\n",
    "\"\"\" % (\"leastFreqTotalWeekendNights\", \"mostFreqTotalWeekendNights\", \"leastFreqTotalWeekNights\", \"mostFreqTotalWeekNights\", \\\n",
    "       \"%d (%d occurrences)\" % (leastFreqTotalWeekendNights[\"stays_in_weekend_nights\"], leastFreqTotalWeekendNights[\"Total\"]), \\\n",
    "       \"%d (%d occurrences)\" % (mostFreqTotalWeekendNights[\"stays_in_weekend_nights\"], mostFreqTotalWeekendNights[\"Total\"]), \\\n",
    "       \"%s (%d occurrences)\" % (leastFreqTotalWeekNights[\"stays_in_week_nights\"], leastFreqTotalWeekNights[\"Total\"]), \\\n",
    "       \"%s (%d occurrences)\" % (mostFreqTotalWeekNights[\"stays_in_week_nights\"], mostFreqTotalWeekNights[\"Total\"]))))\n",
    "display(Markdown(\"\"\"\n",
    "| %s | %s | %s | %s | %s | %s |\n",
    "|----|----|----|----|----|----|\n",
    "| %s | %s | %s | %s | %s | %s |\n",
    "\"\"\" % (\"leastFreqAdults\", \"mostFreqAdults\", \"leastFreqChildren\", \"mostFreqChildren\", \"leastFreqBabies\", \"mostFreqBabies\", \\\n",
    "       \"%s (%d occurrences)\" % (leastFreqAdults[\"adults\"], leastFreqAdults[\"Total\"]), \\\n",
    "       \"%s (%d occurrences)\" % (mostFreqAdults[\"adults\"], mostFreqAdults[\"Total\"]), \\\n",
    "       \"%s (%d occurrences)\" % (leastFreqChildren[\"children\"], leastFreqChildren[\"Total\"]), \\\n",
    "       \"%s (%d occurrences)\" % (mostFreqChildren[\"children\"], mostFreqChildren[\"Total\"]), \n",
    "       \"%s (%d occurrences)\" % (leastFreqBabies[\"babies\"], leastFreqBabies[\"Total\"]), \\\n",
    "       \"%s (%d occurrences)\" % (mostFreqBabies[\"babies\"], mostFreqBabies[\"Total\"]))))\n",
    "\n",
    "print(\"Summary of columns RepeatedGuest, PreviousCancellations, PreviousBookingsNotCancelled, DaysInWaitingList, RequiredCarParkingSpaces and TotalOfSpecialRequests:\")\n",
    "bookingsFinalDF.select(\"is_repeated_guest\", \"previous_cancellations\", \"days_in_waiting_list\", \"required_car_parking_spaces\", \"total_of_special_requests\").summary().show()\n",
    "\n",
    "print(\"Checking for nulls on columns RepeatedGuest, PreviousCancellations, PreviousBookingsNotCancelled, DaysInWaitingList, RequiredCarParkingSpaces and TotalOfSpecialRequests:\")\n",
    "bookingsFinalDF.select([count(when(col(c).isNull(), c)).alias(c) for c in [\"is_repeated_guest\", \"previous_cancellations\", \"days_in_waiting_list\", \"required_car_parking_spaces\", \"total_of_special_requests\"]]).show()\n",
    "\n",
    "print(\"Checking amount of distinct values in columns RepeatedGuest, PreviousCancellations, PreviousBookingsNotCancelled, DaysInWaitingList, RequiredCarParkingSpaces and TotalOfSpecialRequests:\")\n",
    "bookingsFinalDF.select([countDistinct(c).alias(c) for c in [\"is_repeated_guest\", \"previous_cancellations\", \"days_in_waiting_list\", \"required_car_parking_spaces\", \"total_of_special_requests\"]]).show()"
   ]
  },
  {
   "cell_type": "markdown",
   "metadata": {},
   "source": [
    "## 5. Answer some business questions to improve service\n",
    "\n",
    "### A. Ratio of bookings per season"
   ]
  },
  {
   "cell_type": "code",
   "execution_count": 9,
   "metadata": {
    "scrolled": false
   },
   "outputs": [
    {
     "name": "stdout",
     "output_type": "stream",
     "text": [
      "+------+--------+------------+\n",
      "|season|NumRooms|RoundedRatio|\n",
      "+------+--------+------------+\n",
      "|Autumn|   24734|       20.72|\n",
      "|Spring|   33819|       28.33|\n",
      "|Summer|   37046|       31.03|\n",
      "|Winter|   23791|       19.93|\n",
      "+------+--------+------------+\n",
      "\n"
     ]
    }
   ],
   "source": [
    "from pyspark.sql.functions import count, round\n",
    "\n",
    "# Season is going to be the target variable and we need to split the dataset in 4:\n",
    "#\n",
    "#   \"summer\"   - July-September\n",
    "#   \"autumn\"   - October-December\n",
    "#   \"winter\"   - January-March\n",
    "#   \"spring\"   - April-June\n",
    "\n",
    "# 1. Let's enrich the DF with seasonality based on our categorization\n",
    "totalBookings = bookingsFinalDF.count()\n",
    "seasonCategorizationDF = bookingsFinalDF\\\n",
    "   .where(col(\"arrival_date_month\")!=\"NA\")\\\n",
    "   .withColumn(\"season\", when(col(\"arrival_date_month\")==\"January\",\"Winter\")\\\n",
    "                        .when((col(\"arrival_date_month\")==\"February\"),\"Winter\")\\\n",
    "                        .when((col(\"arrival_date_month\")==\"March\"),\"Winter\")\\\n",
    "                        .when((col(\"arrival_date_month\")==\"April\"),\"Spring\")\\\n",
    "                        .when((col(\"arrival_date_month\")==\"May\"),\"Spring\")\\\n",
    "                        .when((col(\"arrival_date_month\")==\"June\"),\"Spring\")\\\n",
    "                        .when((col(\"arrival_date_month\")==\"July\"),\"Summer\")\\\n",
    "                        .when((col(\"arrival_date_month\")==\"August\"),\"Summer\")\\\n",
    "                        .when((col(\"arrival_date_month\")==\"September\"),\"Summer\")\\\n",
    "                        .when((col(\"arrival_date_month\")==\"October\"),\"Autumn\")\\\n",
    "                        .when((col(\"arrival_date_month\")==\"November\"),\"Autumn\")\\\n",
    "                        .otherwise(\"Autumn\"))\n",
    "seasonCategorizationDF.cache()\n",
    "# 2. Ready to answer to this business question\n",
    "seasonCategorizationDF.select(\"season\")\\\n",
    "                      .groupBy(\"season\")\\\n",
    "                      .agg(count(\"season\").alias(\"NumRooms\"), \\\n",
    "                          (count(\"season\")/totalBookings*100).alias(\"Ratio\"))\\\n",
    "                      .orderBy(\"season\")\\\n",
    "                      .select(\"season\",\"NumRooms\",round(\"Ratio\",2).alias(\"RoundedRatio\")).show()"
   ]
  },
  {
   "cell_type": "markdown",
   "metadata": {},
   "source": [
    "### B. Season cancellation statistics by different characteristics (days, people, changes and lead time)"
   ]
  },
  {
   "cell_type": "code",
   "execution_count": 10,
   "metadata": {},
   "outputs": [
    {
     "data": {
      "text/markdown": [
       "**'Weekend days' cancelled basic stats** (in days):"
      ],
      "text/plain": [
       "<IPython.core.display.Markdown object>"
      ]
     },
     "metadata": {},
     "output_type": "display_data"
    },
    {
     "name": "stdout",
     "output_type": "stream",
     "text": [
      "+------+-------------------+------------------+-------------------+------------------+\n",
      "|season|AverageCancellation|LowestCancellation|HighestCancellation|StdDevCancellation|\n",
      "+------+-------------------+------------------+-------------------+------------------+\n",
      "|Autumn| 0.8851127131250716|                 0|                  9|0.9773501038264026|\n",
      "|Spring| 0.8717239370995923|                 0|                  9|0.9322119487416681|\n",
      "|Summer| 1.0148967865503298|                 0|                  8|0.9954804107635634|\n",
      "|Winter| 0.9021170935703084|                 0|                 16|1.1694542652049256|\n",
      "+------+-------------------+------------------+-------------------+------------------+\n",
      "\n"
     ]
    },
    {
     "data": {
      "text/markdown": [
       "**'Week days' cancelled basic stats** (in days):"
      ],
      "text/plain": [
       "<IPython.core.display.Markdown object>"
      ]
     },
     "metadata": {},
     "output_type": "display_data"
    },
    {
     "name": "stdout",
     "output_type": "stream",
     "text": [
      "+------+-------------------+------------------+-------------------+------------------+\n",
      "|season|AverageCancellation|LowestCancellation|HighestCancellation|StdDevCancellation|\n",
      "+------+-------------------+------------------+-------------------+------------------+\n",
      "|Autumn| 2.3772742876759354|                 0|                 24|1.7837138237346148|\n",
      "|Spring|  2.515579499126383|                 0|                 24|1.5682661617444245|\n",
      "|Summer|  2.712704830815067|                 0|                 20| 1.818027835411011|\n",
      "|Winter| 2.5781495033978046|                 0|                 40|2.4836747483878416|\n",
      "+------+-------------------+------------------+-------------------+------------------+\n",
      "\n"
     ]
    },
    {
     "data": {
      "text/markdown": [
       "**'Number of adults' cancelled basic stats**:"
      ],
      "text/plain": [
       "<IPython.core.display.Markdown object>"
      ]
     },
     "metadata": {},
     "output_type": "display_data"
    },
    {
     "name": "stdout",
     "output_type": "stream",
     "text": [
      "+------+-------------------+------------------+-------------------+------------------+\n",
      "|season|AverageCancellation|LowestCancellation|HighestCancellation|StdDevCancellation|\n",
      "+------+-------------------+------------------+-------------------+------------------+\n",
      "|Autumn| 1.8487241103101042|                 0|                 55|0.8256040377916612|\n",
      "|Spring| 1.8731799650553291|                 0|                  4|0.4579976917298583|\n",
      "|Summer| 1.9950344044832233|                 0|                 50|0.8242068904829948|\n",
      "|Winter| 1.8416100365917407|                 0|                  4|0.4757937962507202|\n",
      "+------+-------------------+------------------+-------------------+------------------+\n",
      "\n"
     ]
    },
    {
     "data": {
      "text/markdown": [
       "**'Number of children' cancelled basic stats**:"
      ],
      "text/plain": [
       "<IPython.core.display.Markdown object>"
      ]
     },
     "metadata": {},
     "output_type": "display_data"
    },
    {
     "name": "stdout",
     "output_type": "stream",
     "text": [
      "+------+-------------------+------------------+-------------------+-------------------+\n",
      "|season|AverageCancellation|LowestCancellation|HighestCancellation| StdDevCancellation|\n",
      "+------+-------------------+------------------+-------------------+-------------------+\n",
      "|Autumn| 0.0724339169241332|                 0|                  3|0.33543140688317113|\n",
      "|Spring|0.09981071636575423|                 0|                  3| 0.4022289107924577|\n",
      "|Summer|0.14269495494216988|                 0|                 10|0.47144101551588674|\n",
      "|Winter|0.09082592786199686|                 0|                  3| 0.3815569059509733|\n",
      "+------+-------------------+------------------+-------------------+-------------------+\n",
      "\n"
     ]
    },
    {
     "data": {
      "text/markdown": [
       "**'Number of babies' cancelled basic stats**:"
      ],
      "text/plain": [
       "<IPython.core.display.Markdown object>"
      ]
     },
     "metadata": {},
     "output_type": "display_data"
    },
    {
     "name": "stdout",
     "output_type": "stream",
     "text": [
      "+------+--------------------+------------------+-------------------+--------------------+\n",
      "|season| AverageCancellation|LowestCancellation|HighestCancellation|  StdDevCancellation|\n",
      "+------+--------------------+------------------+-------------------+--------------------+\n",
      "|Autumn|0.003890605332417...|                 0|                  1| 0.06225682325262109|\n",
      "|Spring|0.002984857309260338|                 0|                  2|0.055872873574566294|\n",
      "|Summer|0.006100588777754...|                 0|                  2| 0.07877617638077825|\n",
      "|Winter|0.001045478306325...|                 0|                  1| 0.03231906224729337|\n",
      "+------+--------------------+------------------+-------------------+--------------------+\n",
      "\n"
     ]
    },
    {
     "data": {
      "text/markdown": [
       "**'Number of special guests' cancelled basic stats**:"
      ],
      "text/plain": [
       "<IPython.core.display.Markdown object>"
      ]
     },
     "metadata": {},
     "output_type": "display_data"
    },
    {
     "name": "stdout",
     "output_type": "stream",
     "text": [
      "+------+-------------------+------------------+-------------------+------------------+\n",
      "|season|AverageCancellation|LowestCancellation|HighestCancellation|StdDevCancellation|\n",
      "+------+-------------------+------------------+-------------------+------------------+\n",
      "|Autumn| 0.3461494450165923|                 0|                  4|0.6901439612197943|\n",
      "|Spring|0.28188701223063484|                 0|                  5|0.5979295358053065|\n",
      "|Summer|0.37348371994041285|                 0|                  5| 0.679719189370532|\n",
      "|Winter|0.31102979613173026|                 0|                  4|  0.62532167492052|\n",
      "+------+-------------------+------------------+-------------------+------------------+\n",
      "\n"
     ]
    },
    {
     "data": {
      "text/markdown": [
       "**'Lead Time' cancelled basic stats** (in days):"
      ],
      "text/plain": [
       "<IPython.core.display.Markdown object>"
      ]
     },
     "metadata": {},
     "output_type": "display_data"
    },
    {
     "name": "stdout",
     "output_type": "stream",
     "text": [
      "+------+-------------------+------------------+-------------------+------------------+\n",
      "|season|AverageCancellation|LowestCancellation|HighestCancellation|StdDevCancellation|\n",
      "+------+-------------------+------------------+-------------------+------------------+\n",
      "|Autumn| 153.57924247625587|                 0|                626|135.53751315590188|\n",
      "|Spring| 142.49956319161328|                 0|                471|100.63429052449636|\n",
      "|Summer|  170.3944810952685|                 0|                521|118.46271009929012|\n",
      "|Winter|   92.0334553058024|                 0|                629|110.59391798612799|\n",
      "+------+-------------------+------------------+-------------------+------------------+\n",
      "\n"
     ]
    },
    {
     "data": {
      "text/markdown": [
       "**'Repeated Guest' cancelled basic stats**:"
      ],
      "text/plain": [
       "<IPython.core.display.Markdown object>"
      ]
     },
     "metadata": {},
     "output_type": "display_data"
    },
    {
     "name": "stdout",
     "output_type": "stream",
     "text": [
      "+------+--------------------+------------------+-------------------+-------------------+\n",
      "|season| AverageCancellation|LowestCancellation|HighestCancellation| StdDevCancellation|\n",
      "+------+--------------------+------------------+-------------------+-------------------+\n",
      "|Autumn|0.016477857878475798|                 0|                  1| 0.1273114008041682|\n",
      "|Spring|0.004659289458357601|                 0|                  1| 0.0681022622753702|\n",
      "|Summer| 0.01929488543661772|                 0|                  1|0.13756429493619027|\n",
      "|Winter|0.009409304756926294|                 0|                  1|0.09655044268641946|\n",
      "+------+--------------------+------------------+-------------------+-------------------+\n",
      "\n"
     ]
    },
    {
     "data": {
      "text/markdown": [
       "**'Number of changes' cancelled basic stats** (in days):"
      ],
      "text/plain": [
       "<IPython.core.display.Markdown object>"
      ]
     },
     "metadata": {},
     "output_type": "display_data"
    },
    {
     "name": "stdout",
     "output_type": "stream",
     "text": [
      "+------+-------------------+------------------+-------------------+-------------------+\n",
      "|season|AverageCancellation|LowestCancellation|HighestCancellation| StdDevCancellation|\n",
      "+------+-------------------+------------------+-------------------+-------------------+\n",
      "|Autumn|0.09955372468245795|                 0|                 16|0.49086275235414834|\n",
      "|Spring|0.08590564938846826|                 0|                 14| 0.4205004501695135|\n",
      "|Summer|0.10966872384195218|                 0|                  7| 0.4602881932426244|\n",
      "|Winter|0.09840564558285415|                 0|                  6|0.43846259920916403|\n",
      "+------+-------------------+------------------+-------------------+-------------------+\n",
      "\n"
     ]
    }
   ],
   "source": [
    "from pyspark.sql.functions import max, min, avg, stddev\n",
    "from pyspark.sql.types import IntegerType\n",
    "\n",
    "# To get statistics of season cancellation bookings, we have to prepare the previous DataFrame (seasonCategorizationDF):\n",
    "#   1. Include only cancelled bookings\n",
    "#   2. To get proper statistics, convert String columns into Integer columns (children)\n",
    "\n",
    "bookingCancellationDF = \\\n",
    "  seasonCategorizationDF.where((col(\"is_canceled\")==1))\\\n",
    "                        .withColumn(\"IntChildren\", col(\"children\").cast(IntegerType()))\\\n",
    "                        .select(\"season\",\"stays_in_weekend_nights\", \"stays_in_week_nights\",\"adults\",\"IntChildren\",\\\n",
    "                               \"babies\", \"total_of_special_requests\", \"lead_time\", \"is_repeated_guest\", \"booking_changes\")\n",
    "bookingCancellationDF.cache() # optimization to make the processing faster\n",
    "\n",
    "display(Markdown(\"**'Weekend days' cancelled basic stats** (in days):\"))\n",
    "bookingCancellationDF.groupBy(\"season\")\\\n",
    "                     .agg(avg(\"stays_in_weekend_nights\").alias(\"AverageCancellation\"),\\\n",
    "                          min(\"stays_in_weekend_nights\").alias(\"LowestCancellation\"),\\\n",
    "                          max(\"stays_in_weekend_nights\").alias(\"HighestCancellation\"),\\\n",
    "                          stddev(\"stays_in_weekend_nights\").alias(\"StdDevCancellation\"))\\\n",
    "                     .orderBy(\"season\").show()\n",
    "\n",
    "display(Markdown(\"**'Week days' cancelled basic stats** (in days):\"))\n",
    "bookingCancellationDF.groupBy(\"season\")\\\n",
    "                     .agg(avg(\"stays_in_week_nights\").alias(\"AverageCancellation\"),\\\n",
    "                          min(\"stays_in_week_nights\").alias(\"LowestCancellation\"),\\\n",
    "                          max(\"stays_in_week_nights\").alias(\"HighestCancellation\"),\\\n",
    "                          stddev(\"stays_in_week_nights\").alias(\"StdDevCancellation\"))\\\n",
    "                     .orderBy(\"season\").show()\n",
    "\n",
    "display(Markdown(\"**'Number of adults' cancelled basic stats**:\"))\n",
    "bookingCancellationDF.groupBy(\"season\")\\\n",
    "                     .agg(avg(\"adults\").alias(\"AverageCancellation\"),\\\n",
    "                          min(\"adults\").alias(\"LowestCancellation\"),\\\n",
    "                          max(\"adults\").alias(\"HighestCancellation\"),\\\n",
    "                          stddev(\"adults\").alias(\"StdDevCancellation\"))\\\n",
    "                     .orderBy(\"season\").show()\n",
    "\n",
    "display(Markdown(\"**'Number of children' cancelled basic stats**:\"))\n",
    "bookingCancellationDF.groupBy(\"season\")\\\n",
    "                     .agg(avg(\"IntChildren\").alias(\"AverageCancellation\"),\\\n",
    "                          min(\"IntChildren\").alias(\"LowestCancellation\"),\\\n",
    "                          max(\"IntChildren\").alias(\"HighestCancellation\"),\\\n",
    "                          stddev(\"IntChildren\").alias(\"StdDevCancellation\"))\\\n",
    "                     .orderBy(\"season\").show()\n",
    "\n",
    "display(Markdown(\"**'Number of babies' cancelled basic stats**:\"))\n",
    "bookingCancellationDF.groupBy(\"season\")\\\n",
    "                     .agg(avg(\"babies\").alias(\"AverageCancellation\"),\\\n",
    "                          min(\"babies\").alias(\"LowestCancellation\"),\\\n",
    "                          max(\"babies\").alias(\"HighestCancellation\"),\\\n",
    "                          stddev(\"babies\").alias(\"StdDevCancellation\"))\\\n",
    "                     .orderBy(\"season\").show()\n",
    "\n",
    "display(Markdown(\"**'Number of special guests' cancelled basic stats**:\"))\n",
    "bookingCancellationDF.groupBy(\"season\")\\\n",
    "                     .agg(avg(\"total_of_special_requests\").alias(\"AverageCancellation\"),\\\n",
    "                          min(\"total_of_special_requests\").alias(\"LowestCancellation\"),\\\n",
    "                          max(\"total_of_special_requests\").alias(\"HighestCancellation\"),\\\n",
    "                          stddev(\"total_of_special_requests\").alias(\"StdDevCancellation\"))\\\n",
    "                     .orderBy(\"season\").show()\n",
    "\n",
    "display(Markdown(\"**'Lead Time' cancelled basic stats** (in days):\"))\n",
    "bookingCancellationDF.groupBy(\"season\")\\\n",
    "                     .agg(avg(\"lead_time\").alias(\"AverageCancellation\"),\\\n",
    "                          min(\"lead_time\").alias(\"LowestCancellation\"),\\\n",
    "                          max(\"lead_time\").alias(\"HighestCancellation\"),\\\n",
    "                          stddev(\"lead_time\").alias(\"StdDevCancellation\"))\\\n",
    "                     .orderBy(\"season\").show()\n",
    "\n",
    "display(Markdown(\"**'Repeated Guest' cancelled basic stats**:\"))\n",
    "bookingCancellationDF.groupBy(\"season\")\\\n",
    "                     .agg(avg(\"is_repeated_guest\").alias(\"AverageCancellation\"),\\\n",
    "                          min(\"is_repeated_guest\").alias(\"LowestCancellation\"),\\\n",
    "                          max(\"is_repeated_guest\").alias(\"HighestCancellation\"),\\\n",
    "                          stddev(\"is_repeated_guest\").alias(\"StdDevCancellation\"))\\\n",
    "                     .orderBy(\"season\").show()\n",
    "\n",
    "display(Markdown(\"**'Number of changes' cancelled basic stats** (in days):\"))\n",
    "bookingCancellationDF.groupBy(\"season\")\\\n",
    "                     .agg(avg(\"booking_changes\").alias(\"AverageCancellation\"),\\\n",
    "                          min(\"booking_changes\").alias(\"LowestCancellation\"),\\\n",
    "                          max(\"booking_changes\").alias(\"HighestCancellation\"),\\\n",
    "                          stddev(\"booking_changes\").alias(\"StdDevCancellation\"))\\\n",
    "                     .orderBy(\"season\").show()"
   ]
  },
  {
   "cell_type": "markdown",
   "metadata": {},
   "source": [
    "### C. Top 20 countries with more bookings in Warm Seasons (Spring and Summer)"
   ]
  },
  {
   "cell_type": "code",
   "execution_count": 12,
   "metadata": {},
   "outputs": [
    {
     "data": {
      "text/markdown": [
       "**Top 20 countries** with highest bookings ratio in Warm Seasons (in \\%):"
      ],
      "text/plain": [
       "<IPython.core.display.Markdown object>"
      ]
     },
     "metadata": {},
     "output_type": "display_data"
    },
    {
     "name": "stdout",
     "output_type": "stream",
     "text": [
      "+-------+------+---------------------+-------------+---------------+\n",
      "|country|season|NumWarmSeasonBookings|TotalBookings|WarmSeasonRatio|\n",
      "+-------+------+---------------------+-------------+---------------+\n",
      "|    BRB|Spring|                    4|            4|          100.0|\n",
      "|    FRO|Summer|                    5|            5|          100.0|\n",
      "|    BOL|Spring|                   10|           10|          100.0|\n",
      "|    TJK|Spring|                    8|            9|          88.89|\n",
      "|    GEO|Summer|                   18|           22|          81.82|\n",
      "|    SRB|Spring|                   79|          101|          78.22|\n",
      "|    ISL|Spring|                   43|           57|          75.44|\n",
      "|    PRY|Spring|                    3|            4|           75.0|\n",
      "|    GAB|Summer|                    3|            4|           75.0|\n",
      "|    AND|Summer|                    5|            7|          71.43|\n",
      "|    URY|Spring|                   22|           32|          68.75|\n",
      "|    BGD|Spring|                    8|           12|          66.67|\n",
      "|    JAM|Spring|                    4|            6|          66.67|\n",
      "|    VNM|Summer|                    5|            8|           62.5|\n",
      "|    BHR|Spring|                    3|            5|           60.0|\n",
      "|    QAT|Summer|                    9|           15|           60.0|\n",
      "|    NZL|Spring|                   40|           74|          54.05|\n",
      "|    BLR|Summer|                   14|           26|          53.85|\n",
      "|    KAZ|Summer|                   10|           19|          52.63|\n",
      "|    GIB|Summer|                    9|           18|           50.0|\n",
      "+-------+------+---------------------+-------------+---------------+\n",
      "\n"
     ]
    },
    {
     "data": {
      "text/markdown": [
       "**Top 20 countries with warm seasons bookings ratio** by season (in \\%):"
      ],
      "text/plain": [
       "<IPython.core.display.Markdown object>"
      ]
     },
     "metadata": {},
     "output_type": "display_data"
    },
    {
     "name": "stdout",
     "output_type": "stream",
     "text": [
      "+-------+------+------+\n",
      "|country|Spring|Summer|\n",
      "+-------+------+------+\n",
      "|    FRO|  null| 100.0|\n",
      "|    GEO|  null| 81.82|\n",
      "|    GAB|  null|  75.0|\n",
      "|    AND|  null| 71.43|\n",
      "|    VNM|  null|  62.5|\n",
      "|    QAT| 33.33|  60.0|\n",
      "|    BLR|  null| 53.85|\n",
      "|    KAZ| 31.58| 52.63|\n",
      "|    GIB|  null|  50.0|\n",
      "|    MAR| 11.58| 48.65|\n",
      "|    MOZ| 23.88| 47.76|\n",
      "|     CN| 30.26| 46.83|\n",
      "|    PHL|  42.5|  42.5|\n",
      "|    CZE| 19.88| 42.11|\n",
      "|    DNK| 25.75| 42.07|\n",
      "|    NOR| 35.42| 42.01|\n",
      "|    ROU|  23.6|  41.8|\n",
      "|    AZE|  null| 41.18|\n",
      "|    TWN| 19.61| 39.22|\n",
      "|    RUS| 27.06| 38.92|\n",
      "+-------+------+------+\n",
      "\n"
     ]
    }
   ],
   "source": [
    "# Our answer to this business question will be:\n",
    "#   1. List of top 20 countries with highest warm seasons ratio (based on total number of bookings)\n",
    "#   2. List of top 20 countries with warm season ratio by season\n",
    "\n",
    "# In order to be able to deliver these insights, we need some preparation:\n",
    "#   1. Define a DataFrame with total bookings per country (totalBookingsCountryDF)\n",
    "#   2. Define a DataFrame with aggregated data by Country and Season to figure out\n",
    "#      number of bookings per Warm Seasons (warmSeasonsCountryDF)\n",
    "#   3. Combine both DataFrames to come up with one single DataFrame containin total bookings\n",
    "#      per country and number of bookings per Warm Season to compute ratios (combinedDF)\n",
    "\n",
    "totalBookingsCountryDF = \\\n",
    "   bookingsFinalDF.groupBy(\"country\")\\\n",
    "                  .agg(count(lit(1)).alias(\"TotalBookings\"))\n",
    "warmSeasonsCountryDF = \\\n",
    "  seasonCategorizationDF.where((col(\"season\")!=\"Winter\") & (col(\"season\")!=\"Autumn\"))\\\n",
    "                        .select(\"country\", \"season\")\\\n",
    "                        .groupBy(\"country\", \"season\")\\\n",
    "                        .agg(count(lit(1)).alias(\"NumWarmSeasonBookings\"))\n",
    "\n",
    "combinedDF = \\\n",
    "  warmSeasonsCountryDF\\\n",
    "     .where((col(\"NumWarmSeasonBookings\")>2))\\\n",
    "     .join(totalBookingsCountryDF, \"country\")\\\n",
    "     .withColumn(\"WarmSeasonRatio\", round(col(\"NumWarmSeasonBookings\")/col(\"TotalBookings\")*100,2))\\\n",
    "     .orderBy(col(\"WarmSeasonRatio\").desc())\n",
    "combinedDF.cache() # optimization to make the processing faster\n",
    "\n",
    "display(Markdown(\"**Top 20 countries** with highest bookings ratio in Warm Seasons (in \\%):\"))\n",
    "combinedDF.limit(20).show()\n",
    "display(Markdown(\"**Top 20 countries with warm seasons bookings ratio** by season (in \\%):\"))\n",
    "combinedDF\\\n",
    "   .groupBy(\"country\")\\\n",
    "   .pivot(\"season\")\\\n",
    "   .min(\"WarmSeasonRatio\")\\\n",
    "   .orderBy(col(\"summer\").desc(), col(\"spring\").desc())\\\n",
    "   .limit(20).show()"
   ]
  },
  {
   "cell_type": "code",
   "execution_count": null,
   "metadata": {},
   "outputs": [],
   "source": []
  }
 ],
 "metadata": {
  "kernelspec": {
   "display_name": "Python 3",
   "language": "python",
   "name": "python3"
  },
  "language_info": {
   "codemirror_mode": {
    "name": "ipython",
    "version": 3
   },
   "file_extension": ".py",
   "mimetype": "text/x-python",
   "name": "python",
   "nbconvert_exporter": "python",
   "pygments_lexer": "ipython3",
   "version": "3.7.3"
  }
 },
 "nbformat": 4,
 "nbformat_minor": 2
}
