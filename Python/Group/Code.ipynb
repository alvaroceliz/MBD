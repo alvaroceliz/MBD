{
 "cells": [
  {
   "cell_type": "markdown",
   "metadata": {},
   "source": [
    "# Predicting Credit Score with Risk Based Approach\n",
    "## Python Group Project\n",
    "\n",
    "#### Submited By: Group F\n",
    "\n",
    "\n"
   ]
  },
  {
   "cell_type": "markdown",
   "metadata": {},
   "source": [
    "## Loading Libraries & Importing Dataset"
   ]
  },
  {
   "cell_type": "code",
   "execution_count": 3,
   "metadata": {},
   "outputs": [
    {
     "data": {
      "text/plain": [
       "(224868, 47)"
      ]
     },
     "execution_count": 3,
     "metadata": {},
     "output_type": "execute_result"
    }
   ],
   "source": [
    "#importing libraries\n",
    "\n",
    "#basic analysis libraries\n",
    "import pandas as pd\n",
    "import numpy as np\n",
    "\n",
    "#visulaisation libraries\n",
    "from IPython.display import display, Markdown\n",
    "from matplotlib import pyplot as plt\n",
    "import seaborn as sns\n",
    "\n",
    "#transformation libraries\n",
    "from sklearn.preprocessing import LabelEncoder\n",
    "from sklearn.preprocessing import StandardScaler\n",
    "from pandas import cut, qcut\n",
    "\n",
    "#dimensional reduction\n",
    "from sklearn.decomposition import PCA\n",
    "\n",
    "#machine learning algorithms\n",
    "from sklearn.model_selection import train_test_split\n",
    "from sklearn.ensemble import GradientBoostingRegressor,GradientBoostingClassifier\n",
    "\n",
    "#evaluation libraries\n",
    "from sklearn.metrics import confusion_matrix,classification_report,accuracy_score,mean_squared_error\n",
    "from scipy.stats import spearmanr \n",
    "\n",
    "\n",
    "\n",
    "#loading dataset\n",
    "df_original = pd.read_excel('RBA KYC Accounts.xlsx')\n",
    "df = df_original.copy()\n",
    "df.shape"
   ]
  },
  {
   "cell_type": "markdown",
   "metadata": {},
   "source": [
    "## Preliminary Inspection"
   ]
  },
  {
   "cell_type": "code",
   "execution_count": 4,
   "metadata": {},
   "outputs": [
    {
     "data": {
      "text/html": [
       "<div>\n",
       "<style scoped>\n",
       "    .dataframe tbody tr th:only-of-type {\n",
       "        vertical-align: middle;\n",
       "    }\n",
       "\n",
       "    .dataframe tbody tr th {\n",
       "        vertical-align: top;\n",
       "    }\n",
       "\n",
       "    .dataframe thead th {\n",
       "        text-align: right;\n",
       "    }\n",
       "</style>\n",
       "<table border=\"1\" class=\"dataframe\">\n",
       "  <thead>\n",
       "    <tr style=\"text-align: right;\">\n",
       "      <th></th>\n",
       "      <th>org_code</th>\n",
       "      <th>branchCode</th>\n",
       "      <th>customerId</th>\n",
       "      <th>customerType</th>\n",
       "      <th>residentStatus</th>\n",
       "      <th>age_in_year</th>\n",
       "      <th>birthCountry</th>\n",
       "      <th>profession</th>\n",
       "      <th>companyType</th>\n",
       "      <th>lastUpdate</th>\n",
       "      <th>...</th>\n",
       "      <th>number_of_cash_dep_90_days</th>\n",
       "      <th>avg_cash_deposit_90_days</th>\n",
       "      <th>number_of_deposit_90_days</th>\n",
       "      <th>avg_of_dep_90_days</th>\n",
       "      <th>number_of_cash_wd_90_days</th>\n",
       "      <th>avg_of_cash_wd_90_days</th>\n",
       "      <th>number_of_wd_90_days</th>\n",
       "      <th>avg_of_wd_90_days</th>\n",
       "      <th>score_card_Desc</th>\n",
       "      <th>rbaValue</th>\n",
       "    </tr>\n",
       "  </thead>\n",
       "  <tbody>\n",
       "    <tr>\n",
       "      <th>count</th>\n",
       "      <td>224868.0</td>\n",
       "      <td>224868.000000</td>\n",
       "      <td>2.248680e+05</td>\n",
       "      <td>224868.000000</td>\n",
       "      <td>224868.000000</td>\n",
       "      <td>220153.000000</td>\n",
       "      <td>0.0</td>\n",
       "      <td>79748.000000</td>\n",
       "      <td>114574.000000</td>\n",
       "      <td>0.0</td>\n",
       "      <td>...</td>\n",
       "      <td>224868.000000</td>\n",
       "      <td>2.248680e+05</td>\n",
       "      <td>224868.000000</td>\n",
       "      <td>2.248680e+05</td>\n",
       "      <td>224868.000000</td>\n",
       "      <td>2.248680e+05</td>\n",
       "      <td>224868.000000</td>\n",
       "      <td>2.248680e+05</td>\n",
       "      <td>0.0</td>\n",
       "      <td>224868.000000</td>\n",
       "    </tr>\n",
       "    <tr>\n",
       "      <th>mean</th>\n",
       "      <td>1.0</td>\n",
       "      <td>448.451323</td>\n",
       "      <td>4.394503e+16</td>\n",
       "      <td>1.114418</td>\n",
       "      <td>1.021221</td>\n",
       "      <td>41.310575</td>\n",
       "      <td>NaN</td>\n",
       "      <td>18.309487</td>\n",
       "      <td>49.857577</td>\n",
       "      <td>NaN</td>\n",
       "      <td>...</td>\n",
       "      <td>0.491422</td>\n",
       "      <td>-1.113435e+03</td>\n",
       "      <td>1.131437</td>\n",
       "      <td>-3.540383e+03</td>\n",
       "      <td>0.254305</td>\n",
       "      <td>4.763851e+02</td>\n",
       "      <td>0.868518</td>\n",
       "      <td>2.450953e+03</td>\n",
       "      <td>NaN</td>\n",
       "      <td>17.624194</td>\n",
       "    </tr>\n",
       "    <tr>\n",
       "      <th>std</th>\n",
       "      <td>0.0</td>\n",
       "      <td>228.193308</td>\n",
       "      <td>2.349321e+16</td>\n",
       "      <td>0.318319</td>\n",
       "      <td>0.144122</td>\n",
       "      <td>16.000536</td>\n",
       "      <td>NaN</td>\n",
       "      <td>6.586481</td>\n",
       "      <td>6.736115</td>\n",
       "      <td>NaN</td>\n",
       "      <td>...</td>\n",
       "      <td>5.335240</td>\n",
       "      <td>3.028084e+04</td>\n",
       "      <td>19.713739</td>\n",
       "      <td>9.151602e+04</td>\n",
       "      <td>1.175586</td>\n",
       "      <td>2.028110e+04</td>\n",
       "      <td>12.373992</td>\n",
       "      <td>5.819818e+04</td>\n",
       "      <td>NaN</td>\n",
       "      <td>8.368345</td>\n",
       "    </tr>\n",
       "    <tr>\n",
       "      <th>min</th>\n",
       "      <td>1.0</td>\n",
       "      <td>201.000000</td>\n",
       "      <td>2.020028e+09</td>\n",
       "      <td>1.000000</td>\n",
       "      <td>1.000000</td>\n",
       "      <td>1.000000</td>\n",
       "      <td>NaN</td>\n",
       "      <td>1.000000</td>\n",
       "      <td>1.000000</td>\n",
       "      <td>NaN</td>\n",
       "      <td>...</td>\n",
       "      <td>0.000000</td>\n",
       "      <td>-5.482044e+06</td>\n",
       "      <td>0.000000</td>\n",
       "      <td>-1.654371e+07</td>\n",
       "      <td>0.000000</td>\n",
       "      <td>0.000000e+00</td>\n",
       "      <td>0.000000</td>\n",
       "      <td>0.000000e+00</td>\n",
       "      <td>NaN</td>\n",
       "      <td>4.080000</td>\n",
       "    </tr>\n",
       "    <tr>\n",
       "      <th>25%</th>\n",
       "      <td>1.0</td>\n",
       "      <td>208.000000</td>\n",
       "      <td>2.070207e+16</td>\n",
       "      <td>1.000000</td>\n",
       "      <td>1.000000</td>\n",
       "      <td>31.000000</td>\n",
       "      <td>NaN</td>\n",
       "      <td>20.000000</td>\n",
       "      <td>51.000000</td>\n",
       "      <td>NaN</td>\n",
       "      <td>...</td>\n",
       "      <td>0.000000</td>\n",
       "      <td>0.000000e+00</td>\n",
       "      <td>0.000000</td>\n",
       "      <td>0.000000e+00</td>\n",
       "      <td>0.000000</td>\n",
       "      <td>0.000000e+00</td>\n",
       "      <td>0.000000</td>\n",
       "      <td>0.000000e+00</td>\n",
       "      <td>NaN</td>\n",
       "      <td>13.330000</td>\n",
       "    </tr>\n",
       "    <tr>\n",
       "      <th>50%</th>\n",
       "      <td>1.0</td>\n",
       "      <td>401.000000</td>\n",
       "      <td>4.011205e+16</td>\n",
       "      <td>1.000000</td>\n",
       "      <td>1.000000</td>\n",
       "      <td>41.000000</td>\n",
       "      <td>NaN</td>\n",
       "      <td>20.000000</td>\n",
       "      <td>51.000000</td>\n",
       "      <td>NaN</td>\n",
       "      <td>...</td>\n",
       "      <td>0.000000</td>\n",
       "      <td>0.000000e+00</td>\n",
       "      <td>0.000000</td>\n",
       "      <td>0.000000e+00</td>\n",
       "      <td>0.000000</td>\n",
       "      <td>0.000000e+00</td>\n",
       "      <td>0.000000</td>\n",
       "      <td>0.000000e+00</td>\n",
       "      <td>NaN</td>\n",
       "      <td>16.530000</td>\n",
       "    </tr>\n",
       "    <tr>\n",
       "      <th>75%</th>\n",
       "      <td>1.0</td>\n",
       "      <td>701.000000</td>\n",
       "      <td>7.012410e+16</td>\n",
       "      <td>1.000000</td>\n",
       "      <td>1.000000</td>\n",
       "      <td>52.000000</td>\n",
       "      <td>NaN</td>\n",
       "      <td>21.000000</td>\n",
       "      <td>51.000000</td>\n",
       "      <td>NaN</td>\n",
       "      <td>...</td>\n",
       "      <td>0.000000</td>\n",
       "      <td>0.000000e+00</td>\n",
       "      <td>0.000000</td>\n",
       "      <td>0.000000e+00</td>\n",
       "      <td>0.000000</td>\n",
       "      <td>0.000000e+00</td>\n",
       "      <td>0.000000</td>\n",
       "      <td>0.000000e+00</td>\n",
       "      <td>NaN</td>\n",
       "      <td>21.330000</td>\n",
       "    </tr>\n",
       "    <tr>\n",
       "      <th>max</th>\n",
       "      <td>1.0</td>\n",
       "      <td>805.000000</td>\n",
       "      <td>8.052929e+16</td>\n",
       "      <td>2.000000</td>\n",
       "      <td>2.000000</td>\n",
       "      <td>119.000000</td>\n",
       "      <td>NaN</td>\n",
       "      <td>39.000000</td>\n",
       "      <td>100.000000</td>\n",
       "      <td>NaN</td>\n",
       "      <td>...</td>\n",
       "      <td>1267.000000</td>\n",
       "      <td>0.000000e+00</td>\n",
       "      <td>3292.000000</td>\n",
       "      <td>5.867291e+05</td>\n",
       "      <td>78.000000</td>\n",
       "      <td>8.394000e+06</td>\n",
       "      <td>2858.000000</td>\n",
       "      <td>9.942530e+06</td>\n",
       "      <td>NaN</td>\n",
       "      <td>100.000000</td>\n",
       "    </tr>\n",
       "  </tbody>\n",
       "</table>\n",
       "<p>8 rows × 32 columns</p>\n",
       "</div>"
      ],
      "text/plain": [
       "       org_code     branchCode    customerId   customerType  residentStatus  \\\n",
       "count  224868.0  224868.000000  2.248680e+05  224868.000000   224868.000000   \n",
       "mean        1.0     448.451323  4.394503e+16       1.114418        1.021221   \n",
       "std         0.0     228.193308  2.349321e+16       0.318319        0.144122   \n",
       "min         1.0     201.000000  2.020028e+09       1.000000        1.000000   \n",
       "25%         1.0     208.000000  2.070207e+16       1.000000        1.000000   \n",
       "50%         1.0     401.000000  4.011205e+16       1.000000        1.000000   \n",
       "75%         1.0     701.000000  7.012410e+16       1.000000        1.000000   \n",
       "max         1.0     805.000000  8.052929e+16       2.000000        2.000000   \n",
       "\n",
       "         age_in_year  birthCountry    profession    companyType  lastUpdate  \\\n",
       "count  220153.000000           0.0  79748.000000  114574.000000         0.0   \n",
       "mean       41.310575           NaN     18.309487      49.857577         NaN   \n",
       "std        16.000536           NaN      6.586481       6.736115         NaN   \n",
       "min         1.000000           NaN      1.000000       1.000000         NaN   \n",
       "25%        31.000000           NaN     20.000000      51.000000         NaN   \n",
       "50%        41.000000           NaN     20.000000      51.000000         NaN   \n",
       "75%        52.000000           NaN     21.000000      51.000000         NaN   \n",
       "max       119.000000           NaN     39.000000     100.000000         NaN   \n",
       "\n",
       "       ...  number_of_cash_dep_90_days  avg_cash_deposit_90_days  \\\n",
       "count  ...               224868.000000              2.248680e+05   \n",
       "mean   ...                    0.491422             -1.113435e+03   \n",
       "std    ...                    5.335240              3.028084e+04   \n",
       "min    ...                    0.000000             -5.482044e+06   \n",
       "25%    ...                    0.000000              0.000000e+00   \n",
       "50%    ...                    0.000000              0.000000e+00   \n",
       "75%    ...                    0.000000              0.000000e+00   \n",
       "max    ...                 1267.000000              0.000000e+00   \n",
       "\n",
       "       number_of_deposit_90_days  avg_of_dep_90_days  \\\n",
       "count              224868.000000        2.248680e+05   \n",
       "mean                    1.131437       -3.540383e+03   \n",
       "std                    19.713739        9.151602e+04   \n",
       "min                     0.000000       -1.654371e+07   \n",
       "25%                     0.000000        0.000000e+00   \n",
       "50%                     0.000000        0.000000e+00   \n",
       "75%                     0.000000        0.000000e+00   \n",
       "max                  3292.000000        5.867291e+05   \n",
       "\n",
       "       number_of_cash_wd_90_days  avg_of_cash_wd_90_days  \\\n",
       "count              224868.000000            2.248680e+05   \n",
       "mean                    0.254305            4.763851e+02   \n",
       "std                     1.175586            2.028110e+04   \n",
       "min                     0.000000            0.000000e+00   \n",
       "25%                     0.000000            0.000000e+00   \n",
       "50%                     0.000000            0.000000e+00   \n",
       "75%                     0.000000            0.000000e+00   \n",
       "max                    78.000000            8.394000e+06   \n",
       "\n",
       "       number_of_wd_90_days  avg_of_wd_90_days  score_card_Desc       rbaValue  \n",
       "count         224868.000000       2.248680e+05              0.0  224868.000000  \n",
       "mean               0.868518       2.450953e+03              NaN      17.624194  \n",
       "std               12.373992       5.819818e+04              NaN       8.368345  \n",
       "min                0.000000       0.000000e+00              NaN       4.080000  \n",
       "25%                0.000000       0.000000e+00              NaN      13.330000  \n",
       "50%                0.000000       0.000000e+00              NaN      16.530000  \n",
       "75%                0.000000       0.000000e+00              NaN      21.330000  \n",
       "max             2858.000000       9.942530e+06              NaN     100.000000  \n",
       "\n",
       "[8 rows x 32 columns]"
      ]
     },
     "execution_count": 4,
     "metadata": {},
     "output_type": "execute_result"
    }
   ],
   "source": [
    "#preliminary inspection through basic stats\n",
    "df.describe()"
   ]
  },
  {
   "cell_type": "code",
   "execution_count": 5,
   "metadata": {},
   "outputs": [
    {
     "data": {
      "text/plain": [
       "org_code                        int64\n",
       "branchCode                      int64\n",
       "customerId                      int64\n",
       "fullaccount                    object\n",
       "customerType                    int64\n",
       "creationDate                   object\n",
       "onboarding                     object\n",
       "residentStatus                  int64\n",
       "residentCountry                object\n",
       "nationalityOriginal            object\n",
       "extraNationality               object\n",
       "dateOfBirth                    object\n",
       "age_in_year                   float64\n",
       "birthCountry                  float64\n",
       "birthPlace                     object\n",
       "profession                    float64\n",
       "companyType                   float64\n",
       "giinCode                       object\n",
       "lastUpdate                    float64\n",
       "status                         object\n",
       "ledgerCode                      int64\n",
       "accountCurrency                object\n",
       "jointAccount                    int64\n",
       "IsBlackListed                   int64\n",
       "CUS_CLASS                       int64\n",
       "ECO_SEC                         int64\n",
       "TYPE_OF_DEP                     int64\n",
       "GENDER                        float64\n",
       "LEGAL_STA_CODE                float64\n",
       "legal_Stat_desc               float64\n",
       "avg_last_10_days              float64\n",
       "avg_last_30_days              float64\n",
       "avg_last_90_days              float64\n",
       "number_of_cash_dep_90_days      int64\n",
       "avg_cash_deposit_90_days      float64\n",
       "number_of_deposit_90_days       int64\n",
       "avg_of_dep_90_days            float64\n",
       "number_of_cash_wd_90_days       int64\n",
       "avg_of_cash_wd_90_days        float64\n",
       "number_of_wd_90_days            int64\n",
       "avg_of_wd_90_days             float64\n",
       "date_of_assessment             object\n",
       "rbaGradeAbrv                   object\n",
       "rba_grade_desc                 object\n",
       "score_card                     object\n",
       "score_card_Desc               float64\n",
       "rbaValue                      float64\n",
       "dtype: object"
      ]
     },
     "execution_count": 5,
     "metadata": {},
     "output_type": "execute_result"
    }
   ],
   "source": [
    "#checking data structure\n",
    "df.dtypes"
   ]
  },
  {
   "cell_type": "markdown",
   "metadata": {},
   "source": [
    "## Data Cleaning & Transformation\n",
    "\n",
    "### Dropping Empty Columns & Unnecessary Columns Based on Business Understanding"
   ]
  },
  {
   "cell_type": "code",
   "execution_count": 6,
   "metadata": {},
   "outputs": [],
   "source": [
    "#dropping unneeded columns\n",
    "drop_col = [\"nationalityOriginal\",\"extraNationality\",\"dateOfBirth\",\n",
    "            \"birthCountry\",\"birthPlace\",\"giinCode\",\"lastUpdate\",\n",
    "            \"status\",\"GENDER\",\"legal_Stat_desc\",\"date_of_assessment\",\n",
    "            \"rba_grade_desc\",\"score_card_Desc\"]\n",
    "df.drop(drop_col, axis = 1, inplace = True)"
   ]
  },
  {
   "cell_type": "code",
   "execution_count": 7,
   "metadata": {},
   "outputs": [
    {
     "data": {
      "text/plain": [
       "(224868, 34)"
      ]
     },
     "execution_count": 7,
     "metadata": {},
     "output_type": "execute_result"
    }
   ],
   "source": [
    "#checking shape of dataframe\n",
    "df.shape"
   ]
  },
  {
   "cell_type": "markdown",
   "metadata": {},
   "source": [
    "### Dividing Dataset Based on Customer Type"
   ]
  },
  {
   "cell_type": "code",
   "execution_count": 8,
   "metadata": {},
   "outputs": [],
   "source": [
    "#breaking dataset based on customer type\n",
    "df_individual = df.loc[df['customerType'] == 1]\n",
    "df_entities = df.loc[df['customerType'] == 2]"
   ]
  },
  {
   "cell_type": "markdown",
   "metadata": {},
   "source": [
    "### Cleaning & Transforming Individuals' Dataset"
   ]
  },
  {
   "cell_type": "code",
   "execution_count": 9,
   "metadata": {},
   "outputs": [
    {
     "name": "stderr",
     "output_type": "stream",
     "text": [
      "C:\\Users\\alvar\\anaconda3\\lib\\site-packages\\pandas\\core\\frame.py:4163: SettingWithCopyWarning: \n",
      "A value is trying to be set on a copy of a slice from a DataFrame\n",
      "\n",
      "See the caveats in the documentation: https://pandas.pydata.org/pandas-docs/stable/user_guide/indexing.html#returning-a-view-versus-a-copy\n",
      "  return super().drop(\n"
     ]
    }
   ],
   "source": [
    "#dropping unneeded columns in individual\n",
    "drop_ind_col = ['companyType']\n",
    "df_individual.drop(drop_ind_col, axis = 1, inplace = True)"
   ]
  },
  {
   "cell_type": "code",
   "execution_count": 10,
   "metadata": {},
   "outputs": [
    {
     "data": {
      "text/plain": [
       "org_code                       0.000000\n",
       "branchCode                     0.000000\n",
       "customerId                     0.000000\n",
       "fullaccount                    0.000000\n",
       "customerType                   0.000000\n",
       "creationDate                   0.000000\n",
       "onboarding                     0.000000\n",
       "residentStatus                 0.000000\n",
       "residentCountry                0.296275\n",
       "age_in_year                    0.515720\n",
       "profession                    60.528576\n",
       "ledgerCode                     0.000000\n",
       "accountCurrency                0.000000\n",
       "jointAccount                   0.000000\n",
       "IsBlackListed                  0.000000\n",
       "CUS_CLASS                      0.000000\n",
       "ECO_SEC                        0.000000\n",
       "TYPE_OF_DEP                    0.000000\n",
       "LEGAL_STA_CODE                 1.235318\n",
       "avg_last_10_days               0.000000\n",
       "avg_last_30_days               0.000000\n",
       "avg_last_90_days               0.000000\n",
       "number_of_cash_dep_90_days     0.000000\n",
       "avg_cash_deposit_90_days       0.000000\n",
       "number_of_deposit_90_days      0.000000\n",
       "avg_of_dep_90_days             0.000000\n",
       "number_of_cash_wd_90_days      0.000000\n",
       "avg_of_cash_wd_90_days         0.000000\n",
       "number_of_wd_90_days           0.000000\n",
       "avg_of_wd_90_days              0.000000\n",
       "rbaGradeAbrv                   0.000000\n",
       "score_card                     0.000000\n",
       "rbaValue                       0.000000\n",
       "dtype: float64"
      ]
     },
     "execution_count": 10,
     "metadata": {},
     "output_type": "execute_result"
    }
   ],
   "source": [
    "#checking null values\n",
    "100*df_individual.isnull().sum()/df_individual.isnull().count()"
   ]
  },
  {
   "cell_type": "code",
   "execution_count": 11,
   "metadata": {},
   "outputs": [
    {
     "data": {
      "text/plain": [
       "org_code                       0.000000\n",
       "branchCode                     0.000000\n",
       "customerId                     0.000000\n",
       "fullaccount                    0.000000\n",
       "customerType                   0.000000\n",
       "creationDate                   0.000000\n",
       "onboarding                     0.000000\n",
       "residentStatus                 0.000000\n",
       "residentCountry                0.023320\n",
       "age_in_year                   14.334020\n",
       "profession                    95.549769\n",
       "companyType                    5.748377\n",
       "ledgerCode                     0.000000\n",
       "accountCurrency                0.000000\n",
       "jointAccount                   0.000000\n",
       "IsBlackListed                  0.000000\n",
       "CUS_CLASS                      0.000000\n",
       "ECO_SEC                        0.000000\n",
       "TYPE_OF_DEP                    0.000000\n",
       "LEGAL_STA_CODE                 0.606320\n",
       "avg_last_10_days               0.000000\n",
       "avg_last_30_days               0.000000\n",
       "avg_last_90_days               0.000000\n",
       "number_of_cash_dep_90_days     0.000000\n",
       "avg_cash_deposit_90_days       0.000000\n",
       "number_of_deposit_90_days      0.000000\n",
       "avg_of_dep_90_days             0.000000\n",
       "number_of_cash_wd_90_days      0.000000\n",
       "avg_of_cash_wd_90_days         0.000000\n",
       "number_of_wd_90_days           0.000000\n",
       "avg_of_wd_90_days              0.000000\n",
       "rbaGradeAbrv                   0.000000\n",
       "score_card                     0.000000\n",
       "rbaValue                       0.000000\n",
       "dtype: float64"
      ]
     },
     "execution_count": 11,
     "metadata": {},
     "output_type": "execute_result"
    }
   ],
   "source": [
    "#checking null values\n",
    "100*df_entities.isnull().sum()/df_entities.isnull().count()"
   ]
  },
  {
   "cell_type": "markdown",
   "metadata": {},
   "source": [
    "### Imputing Null Values & Transforming Into Categorical Variable - profession"
   ]
  },
  {
   "cell_type": "code",
   "execution_count": 12,
   "metadata": {},
   "outputs": [
    {
     "name": "stderr",
     "output_type": "stream",
     "text": [
      "<ipython-input-12-55641a8afd9c>:10: SettingWithCopyWarning: \n",
      "A value is trying to be set on a copy of a slice from a DataFrame.\n",
      "Try using .loc[row_indexer,col_indexer] = value instead\n",
      "\n",
      "See the caveats in the documentation: https://pandas.pydata.org/pandas-docs/stable/user_guide/indexing.html#returning-a-view-versus-a-copy\n",
      "  df_individual['profession'] = df_individual['profession'].replace(np.nan, 0).bfill()\n",
      "<ipython-input-12-55641a8afd9c>:12: SettingWithCopyWarning: \n",
      "A value is trying to be set on a copy of a slice from a DataFrame.\n",
      "Try using .loc[row_indexer,col_indexer] = value instead\n",
      "\n",
      "See the caveats in the documentation: https://pandas.pydata.org/pandas-docs/stable/user_guide/indexing.html#returning-a-view-versus-a-copy\n",
      "  df_individual['profession_label'] = df_individual['profession'].map(prof_dict)\n"
     ]
    },
    {
     "data": {
      "text/html": [
       "<div>\n",
       "<style scoped>\n",
       "    .dataframe tbody tr th:only-of-type {\n",
       "        vertical-align: middle;\n",
       "    }\n",
       "\n",
       "    .dataframe tbody tr th {\n",
       "        vertical-align: top;\n",
       "    }\n",
       "\n",
       "    .dataframe thead th {\n",
       "        text-align: right;\n",
       "    }\n",
       "</style>\n",
       "<table border=\"1\" class=\"dataframe\">\n",
       "  <thead>\n",
       "    <tr style=\"text-align: right;\">\n",
       "      <th></th>\n",
       "      <th>profession</th>\n",
       "      <th>profession_label</th>\n",
       "    </tr>\n",
       "  </thead>\n",
       "  <tbody>\n",
       "    <tr>\n",
       "      <th>1</th>\n",
       "      <td>27.0</td>\n",
       "      <td>RBA_PROF_High</td>\n",
       "    </tr>\n",
       "    <tr>\n",
       "      <th>2</th>\n",
       "      <td>27.0</td>\n",
       "      <td>RBA_PROF_High</td>\n",
       "    </tr>\n",
       "    <tr>\n",
       "      <th>3</th>\n",
       "      <td>27.0</td>\n",
       "      <td>RBA_PROF_High</td>\n",
       "    </tr>\n",
       "    <tr>\n",
       "      <th>4</th>\n",
       "      <td>27.0</td>\n",
       "      <td>RBA_PROF_High</td>\n",
       "    </tr>\n",
       "    <tr>\n",
       "      <th>5</th>\n",
       "      <td>27.0</td>\n",
       "      <td>RBA_PROF_High</td>\n",
       "    </tr>\n",
       "    <tr>\n",
       "      <th>...</th>\n",
       "      <td>...</td>\n",
       "      <td>...</td>\n",
       "    </tr>\n",
       "    <tr>\n",
       "      <th>224862</th>\n",
       "      <td>0.0</td>\n",
       "      <td>RBA_PROF_High</td>\n",
       "    </tr>\n",
       "    <tr>\n",
       "      <th>224863</th>\n",
       "      <td>0.0</td>\n",
       "      <td>RBA_PROF_High</td>\n",
       "    </tr>\n",
       "    <tr>\n",
       "      <th>224865</th>\n",
       "      <td>0.0</td>\n",
       "      <td>RBA_PROF_High</td>\n",
       "    </tr>\n",
       "    <tr>\n",
       "      <th>224866</th>\n",
       "      <td>0.0</td>\n",
       "      <td>RBA_PROF_High</td>\n",
       "    </tr>\n",
       "    <tr>\n",
       "      <th>224867</th>\n",
       "      <td>0.0</td>\n",
       "      <td>RBA_PROF_High</td>\n",
       "    </tr>\n",
       "  </tbody>\n",
       "</table>\n",
       "<p>199139 rows × 2 columns</p>\n",
       "</div>"
      ],
      "text/plain": [
       "        profession profession_label\n",
       "1             27.0    RBA_PROF_High\n",
       "2             27.0    RBA_PROF_High\n",
       "3             27.0    RBA_PROF_High\n",
       "4             27.0    RBA_PROF_High\n",
       "5             27.0    RBA_PROF_High\n",
       "...            ...              ...\n",
       "224862         0.0    RBA_PROF_High\n",
       "224863         0.0    RBA_PROF_High\n",
       "224865         0.0    RBA_PROF_High\n",
       "224866         0.0    RBA_PROF_High\n",
       "224867         0.0    RBA_PROF_High\n",
       "\n",
       "[199139 rows x 2 columns]"
      ]
     },
     "execution_count": 12,
     "metadata": {},
     "output_type": "execute_result"
    }
   ],
   "source": [
    "#reading metadata for profession variable\n",
    "meta_prof = pd.read_excel ('RBA Metadata.xlsx', sheet_name='Profession')\n",
    "#replacing whitespaces in metadata columns 'Value' & 'Code'\n",
    "meta_prof['Value'] = meta_prof['Value'].replace(\" \", 0).bfill() #replacing with 0\n",
    "meta_prof['Code'] = meta_prof['Code'].replace(\" \", 'RBA_PROF_High').bfill() #replacing with worst case\n",
    "#creating dictionary from metadata\n",
    "prof_dict = dict(zip(meta_prof.Value, meta_prof.Code))\n",
    "prof_dict\n",
    "#imputing null values in profession variable with 0\n",
    "df_individual['profession'] = df_individual['profession'].replace(np.nan, 0).bfill()\n",
    "#replacing profession value with categorical variable from metadata\n",
    "df_individual['profession_label'] = df_individual['profession'].map(prof_dict)\n",
    "df_individual[['profession','profession_label']]"
   ]
  },
  {
   "cell_type": "markdown",
   "metadata": {},
   "source": [
    "### Dropping Rows with Null Values"
   ]
  },
  {
   "cell_type": "code",
   "execution_count": 13,
   "metadata": {},
   "outputs": [],
   "source": [
    "#drop rows with null values in individual dataset\n",
    "df_individual = df_individual.dropna()"
   ]
  },
  {
   "cell_type": "markdown",
   "metadata": {},
   "source": [
    "### Transforming Variables Into Categorical Variable"
   ]
  },
  {
   "cell_type": "code",
   "execution_count": 14,
   "metadata": {},
   "outputs": [],
   "source": [
    "#reading metadata for residentCountry variable\n",
    "meta_count = pd.read_excel ('RBA Metadata.xlsx', sheet_name='COUNTRIES')\n",
    "#creating dictionary from metadata\n",
    "count_dict = dict(zip(meta_count.value, meta_count.code))\n",
    "count_dict\n",
    "#replacing ledgerCode value with categorical variable from metadata\n",
    "df_individual['residentCountry_label'] = df_individual['residentCountry'].map(count_dict)\n",
    "\n",
    "#Similar approach used for other variables\n",
    "\n",
    "#ledgerCode\n",
    "meta_ledger = pd.read_excel ('RBA Metadata.xlsx', sheet_name='Ledgers')\n",
    "ledger_dict = dict(zip(meta_ledger.value, meta_ledger.code))\n",
    "ledger_dict\n",
    "df_individual['ledgerCode_label'] = df_individual['ledgerCode'].map(ledger_dict)\n",
    "\n",
    "#accountCurrency\n",
    "meta_currencies = pd.read_excel ('RBA Metadata.xlsx', sheet_name='Currencies')\n",
    "currencies_dict = dict(zip(meta_currencies.value, meta_currencies.code))\n",
    "currencies_dict\n",
    "df_individual['accountCurrency_label'] = df_individual['accountCurrency'].map(currencies_dict)\n",
    "\n",
    "#ECO_SEC\n",
    "meta_eco = pd.read_excel ('RBA Metadata.xlsx', sheet_name='ECO_SEC')\n",
    "eco_dict = dict(zip(meta_eco.value, meta_eco.code))\n",
    "eco_dict\n",
    "df_individual['ECO_SEC_label'] = df_individual['ECO_SEC'].map(eco_dict)\n",
    "\n",
    "#Type_Of_DEP\n",
    "meta_dep = pd.read_excel ('RBA Metadata.xlsx', sheet_name='Type_Of_DEP')\n",
    "dep_dict = dict(zip(meta_dep.value, meta_dep.code))\n",
    "dep_dict\n",
    "df_individual['TYPE_OF_DEP_label'] = df_individual['TYPE_OF_DEP'].map(dep_dict)\n",
    "\n",
    "#Legal_STA_Code\n",
    "meta_legal = pd.read_excel ('RBA Metadata.xlsx', sheet_name='Legal_STA_Code')\n",
    "legal_dict = dict(zip(meta_legal.value, meta_legal.code))\n",
    "legal_dict\n",
    "df_individual['LEGAL_STA_CODE_label'] = df_individual['LEGAL_STA_CODE'].map(legal_dict)"
   ]
  },
  {
   "cell_type": "markdown",
   "metadata": {},
   "source": [
    "### Converting currencies to a base currency"
   ]
  },
  {
   "cell_type": "code",
   "execution_count": 15,
   "metadata": {},
   "outputs": [],
   "source": [
    "#creating dictionary with currency code and exchange rate\n",
    "exchange_rates = {'accountCurrency' : ['JOD', 'USD', 'EUR', 'CHF', 'GBP' , 'XAG', 'JPY', 'AED' , 'CAD', 'SAR' , 'QAR' ,'AUD' , 'SEK','NZD'  , 'LBP' , 'XAU' ,'DKK'  ,'BHD' , 'ESP' , 'KWD'],\n",
    "'exchangeRate' : [1 , 1.41, 1.17, 1.29, 1.01, 0.05, 150.35, 5.18, 1.79,5.29, 5.14, 1.82, 11.95, 1.95, 2135.31, 0.00078, 8.72, 0.53, 194.87, 0.43]}\n",
    "#converting dictionary to exchange rate dataframe\n",
    "exchange_rates_df = pd.DataFrame.from_dict(exchange_rates)\n",
    "#converting into dictionary for mapping\n",
    "forex_dict = dict(zip(exchange_rates_df.accountCurrency, exchange_rates_df.exchangeRate))\n",
    "#creating new column rate\n",
    "df_individual['rate'] = df_individual['accountCurrency'].map(forex_dict)\n",
    "#Converting currency related columns to base currency\n",
    "cash_cols = ['avg_last_10_days', 'avg_last_30_days','avg_last_90_days','avg_cash_deposit_90_days','avg_of_dep_90_days','avg_of_cash_wd_90_days', 'avg_of_wd_90_days']\n",
    "for col in cash_cols:\n",
    "    new_col = col+'_JOD'\n",
    "    df_individual[new_col] = df_individual[col]*df_individual['rate']"
   ]
  },
  {
   "cell_type": "markdown",
   "metadata": {},
   "source": [
    "### Transforming creationDate into days"
   ]
  },
  {
   "cell_type": "code",
   "execution_count": 16,
   "metadata": {},
   "outputs": [],
   "source": [
    "df_individual['creationDate_indays'] = df_individual['creationDate'].astype('datetime64[ns]').max()-df_individual['creationDate'].astype('datetime64[ns]')\n",
    "df_individual['creationDate_indays'] = df_individual['creationDate_indays'] / np.timedelta64(1, 'D')"
   ]
  },
  {
   "cell_type": "markdown",
   "metadata": {},
   "source": [
    "### Binning number of deposit and withdrawal days to get frequency categories"
   ]
  },
  {
   "cell_type": "code",
   "execution_count": 17,
   "metadata": {},
   "outputs": [],
   "source": [
    "transaction_cols = ['number_of_cash_dep_90_days','number_of_deposit_90_days',\n",
    "                    'number_of_cash_wd_90_days','number_of_wd_90_days']\n",
    "for col in transaction_cols:\n",
    "    col_bin = col+'_freq'\n",
    "    df_individual[col_bin] = cut(df_individual[col],bins = [-1,0,1],labels = [0,1])"
   ]
  },
  {
   "cell_type": "markdown",
   "metadata": {},
   "source": [
    "### Binning date variables"
   ]
  },
  {
   "cell_type": "code",
   "execution_count": 18,
   "metadata": {},
   "outputs": [],
   "source": [
    "date_cols = ['age_in_year', 'creationDate_indays']\n",
    "for col in date_cols:\n",
    "    col_bin = col+'_bin'\n",
    "    df_individual[col_bin] = qcut(df_individual[col],q=3)"
   ]
  },
  {
   "cell_type": "markdown",
   "metadata": {},
   "source": [
    "### Encoding Categorical Variable into Numeric Type"
   ]
  },
  {
   "cell_type": "code",
   "execution_count": 19,
   "metadata": {},
   "outputs": [],
   "source": [
    "obj_cat_cols = ['creationDate_indays_bin','age_in_year_bin','onboarding','score_card','profession_label','residentCountry_label','ledgerCode_label',\n",
    "                'accountCurrency_label','ECO_SEC_label','TYPE_OF_DEP_label','LEGAL_STA_CODE_label',\n",
    "                'number_of_cash_dep_90_days_freq','number_of_deposit_90_days_freq','number_of_cash_wd_90_days_freq',\n",
    "                'number_of_wd_90_days_freq']\n",
    "\n",
    "label_encoder = LabelEncoder()\n",
    "for col in obj_cat_cols:\n",
    "    df_individual[col] = label_encoder.fit_transform(df_individual[col].astype(str))"
   ]
  },
  {
   "cell_type": "markdown",
   "metadata": {},
   "source": [
    "### Plotting distribution of variables"
   ]
  },
  {
   "cell_type": "code",
   "execution_count": 20,
   "metadata": {},
   "outputs": [
    {
     "data": {
      "image/png": "[encoded data removed]",
      "text/plain": [
       "<Figure size 864x864 with 30 Axes>"
      ]
     },
     "metadata": {
      "needs_background": "light"
     },
     "output_type": "display_data"
    }
   ],
   "source": [
    "num_cols = ['creationDate_indays_bin','onboarding', 'residentStatus','age_in_year_bin','jointAccount',\n",
    "          'IsBlackListed', 'CUS_CLASS','score_card','profession_label',\n",
    "          'residentCountry_label', 'ledgerCode_label', 'accountCurrency_label',\n",
    "          'ECO_SEC_label', 'TYPE_OF_DEP_label', 'LEGAL_STA_CODE_label',\n",
    "          'avg_last_10_days_JOD', 'avg_last_30_days_JOD', 'avg_last_90_days_JOD',\n",
    "          'avg_cash_deposit_90_days_JOD', 'avg_of_dep_90_days_JOD',\n",
    "          'avg_of_cash_wd_90_days_JOD', 'avg_of_wd_90_days_JOD',\n",
    "          'number_of_cash_dep_90_days_freq',\n",
    "          'number_of_deposit_90_days_freq', 'number_of_cash_wd_90_days_freq',\n",
    "          'number_of_wd_90_days_freq']\n",
    "\n",
    "if True:\n",
    "    fontsize = 10\n",
    "    fig = df_individual[num_cols].hist(bins = 20, figsize = (12, 12),\n",
    "                                       xlabelsize=fontsize,\n",
    "                                       ylabelsize=fontsize)\n",
    "    for x in fig.ravel():\n",
    "        x.title.set_size(fontsize)\n",
    "else:\n",
    "    nrows = (len(attribute_columns)+1) // 2\n",
    "    plt.figure(figsize=(12,25))\n",
    "    for i in range(len(attribute_columns)):\n",
    "        name = attribute_columns[i]\n",
    "        plt.subplot(nrows,2,i+1)\n",
    "        data[name].hist()\n",
    "        plt.title(name, fontsize=14)\n",
    "    \n",
    "plt.show()"
   ]
  },
  {
   "cell_type": "markdown",
   "metadata": {},
   "source": [
    "### Cleaning & Transforming Entities' Dataset"
   ]
  },
  {
   "cell_type": "code",
   "execution_count": 21,
   "metadata": {},
   "outputs": [
    {
     "data": {
      "text/plain": [
       "org_code                        int64\n",
       "branchCode                      int64\n",
       "customerId                      int64\n",
       "fullaccount                    object\n",
       "customerType                    int64\n",
       "creationDate                   object\n",
       "onboarding                     object\n",
       "residentStatus                  int64\n",
       "residentCountry                object\n",
       "age_in_year                   float64\n",
       "profession                    float64\n",
       "companyType                   float64\n",
       "ledgerCode                      int64\n",
       "accountCurrency                object\n",
       "jointAccount                    int64\n",
       "IsBlackListed                   int64\n",
       "CUS_CLASS                       int64\n",
       "ECO_SEC                         int64\n",
       "TYPE_OF_DEP                     int64\n",
       "LEGAL_STA_CODE                float64\n",
       "avg_last_10_days              float64\n",
       "avg_last_30_days              float64\n",
       "avg_last_90_days              float64\n",
       "number_of_cash_dep_90_days      int64\n",
       "avg_cash_deposit_90_days      float64\n",
       "number_of_deposit_90_days       int64\n",
       "avg_of_dep_90_days            float64\n",
       "number_of_cash_wd_90_days       int64\n",
       "avg_of_cash_wd_90_days        float64\n",
       "number_of_wd_90_days            int64\n",
       "avg_of_wd_90_days             float64\n",
       "rbaGradeAbrv                   object\n",
       "score_card                     object\n",
       "rbaValue                      float64\n",
       "dtype: object"
      ]
     },
     "execution_count": 21,
     "metadata": {},
     "output_type": "execute_result"
    }
   ],
   "source": [
    "df_entities.dtypes"
   ]
  },
  {
   "cell_type": "code",
   "execution_count": 22,
   "metadata": {},
   "outputs": [
    {
     "name": "stderr",
     "output_type": "stream",
     "text": [
      "C:\\Users\\alvar\\anaconda3\\lib\\site-packages\\pandas\\core\\frame.py:4163: SettingWithCopyWarning: \n",
      "A value is trying to be set on a copy of a slice from a DataFrame\n",
      "\n",
      "See the caveats in the documentation: https://pandas.pydata.org/pandas-docs/stable/user_guide/indexing.html#returning-a-view-versus-a-copy\n",
      "  return super().drop(\n"
     ]
    }
   ],
   "source": [
    "#dropping unneeded columns in individual\n",
    "drop_ent_col = ['profession','age_in_year']\n",
    "df_entities.drop(drop_ent_col, axis = 1, inplace = True)"
   ]
  },
  {
   "cell_type": "markdown",
   "metadata": {},
   "source": [
    "### Imputing Null Values Categorical Variable - companyType"
   ]
  },
  {
   "cell_type": "code",
   "execution_count": 23,
   "metadata": {},
   "outputs": [
    {
     "name": "stderr",
     "output_type": "stream",
     "text": [
      "<ipython-input-23-32112c6e8295>:2: SettingWithCopyWarning: \n",
      "A value is trying to be set on a copy of a slice from a DataFrame.\n",
      "Try using .loc[row_indexer,col_indexer] = value instead\n",
      "\n",
      "See the caveats in the documentation: https://pandas.pydata.org/pandas-docs/stable/user_guide/indexing.html#returning-a-view-versus-a-copy\n",
      "  df_entities['companyType'] = df_entities['companyType'].replace(np.nan, 0).bfill()\n"
     ]
    }
   ],
   "source": [
    "#imputing null values in companyType variable with 0\n",
    "df_entities['companyType'] = df_entities['companyType'].replace(np.nan, 0).bfill()"
   ]
  },
  {
   "cell_type": "markdown",
   "metadata": {},
   "source": [
    "### Dropping Rows with Null Values"
   ]
  },
  {
   "cell_type": "code",
   "execution_count": 24,
   "metadata": {},
   "outputs": [],
   "source": [
    "#drop rows with null values in individual dataset\n",
    "df_entities = df_entities.dropna()"
   ]
  },
  {
   "cell_type": "markdown",
   "metadata": {},
   "source": [
    "### Transforming Variables Into Categorical Variable"
   ]
  },
  {
   "cell_type": "code",
   "execution_count": 25,
   "metadata": {},
   "outputs": [],
   "source": [
    "#reading metadata for residentCountry variable\n",
    "meta_count = pd.read_excel ('RBA Metadata.xlsx', sheet_name='COUNTRIES')\n",
    "#creating dictionary from metadata\n",
    "count_dict = dict(zip(meta_count.value, meta_count.code))\n",
    "count_dict\n",
    "#replacing ledgerCode value with categorical variable from metadata\n",
    "df_entities['residentCountry_label'] = df_entities['residentCountry'].map(count_dict)\n",
    "\n",
    "#Similar approach used for other variables\n",
    "\n",
    "#ledgerCode\n",
    "meta_ledger = pd.read_excel ('RBA Metadata.xlsx', sheet_name='Ledgers')\n",
    "ledger_dict = dict(zip(meta_ledger.value, meta_ledger.code))\n",
    "ledger_dict\n",
    "df_entities['ledgerCode_label'] = df_entities['ledgerCode'].map(ledger_dict)\n",
    "\n",
    "#accountCurrency\n",
    "meta_currencies = pd.read_excel ('RBA Metadata.xlsx', sheet_name='Currencies')\n",
    "currencies_dict = dict(zip(meta_currencies.value, meta_currencies.code))\n",
    "currencies_dict\n",
    "df_entities['accountCurrency_label'] = df_entities['accountCurrency'].map(currencies_dict)\n",
    "\n",
    "#ECO_SEC\n",
    "meta_eco = pd.read_excel ('RBA Metadata.xlsx', sheet_name='ECO_SEC')\n",
    "eco_dict = dict(zip(meta_eco.value, meta_eco.code))\n",
    "eco_dict\n",
    "df_entities['ECO_SEC_label'] = df_entities['ECO_SEC'].map(eco_dict)\n",
    "\n",
    "#Type_Of_DEP\n",
    "meta_dep = pd.read_excel ('RBA Metadata.xlsx', sheet_name='Type_Of_DEP')\n",
    "dep_dict = dict(zip(meta_dep.value, meta_dep.code))\n",
    "dep_dict\n",
    "df_entities['TYPE_OF_DEP_label'] = df_entities['TYPE_OF_DEP'].map(dep_dict)\n",
    "\n",
    "#Legal_STA_Code\n",
    "meta_legal = pd.read_excel ('RBA Metadata.xlsx', sheet_name='Legal_STA_Code')\n",
    "legal_dict = dict(zip(meta_legal.value, meta_legal.code))\n",
    "legal_dict\n",
    "df_entities['LEGAL_STA_CODE_label'] = df_entities['LEGAL_STA_CODE'].map(legal_dict)"
   ]
  },
  {
   "cell_type": "markdown",
   "metadata": {},
   "source": [
    "### Converting currencies to a base currency"
   ]
  },
  {
   "cell_type": "code",
   "execution_count": 26,
   "metadata": {},
   "outputs": [],
   "source": [
    "#creating dictionary with currency code and exchange rate\n",
    "exchange_rates = {'accountCurrency' : ['JOD', 'USD', 'EUR', 'CHF', 'GBP' , 'XAG', 'JPY', 'AED' , 'CAD', 'SAR' , 'QAR' ,'AUD' , 'SEK','NZD'  , 'LBP' , 'XAU' ,'DKK'  ,'BHD' , 'ESP' , 'KWD'],\n",
    "'exchangeRate' : [1 , 1.41, 1.17, 1.29, 1.01, 0.05, 150.35, 5.18, 1.79,5.29, 5.14, 1.82, 11.95, 1.95, 2135.31, 0.00078, 8.72, 0.53, 194.87, 0.43]}\n",
    "#converting dictionary to exchange rate dataframe\n",
    "exchange_rates_df = pd.DataFrame.from_dict(exchange_rates)\n",
    "#converting into dictionary for mapping\n",
    "forex_dict = dict(zip(exchange_rates_df.accountCurrency, exchange_rates_df.exchangeRate))\n",
    "#creating new column rate\n",
    "df_entities['rate'] = df_entities['accountCurrency'].map(forex_dict)\n",
    "#Converting currency related columns to base currency\n",
    "cash_cols = ['avg_last_10_days', 'avg_last_30_days','avg_last_90_days','avg_cash_deposit_90_days','avg_of_dep_90_days','avg_of_cash_wd_90_days', 'avg_of_wd_90_days']\n",
    "for col in cash_cols:\n",
    "    new_col = col+'_JOD'\n",
    "    df_entities[new_col] = df_entities[col]*df_entities['rate']"
   ]
  },
  {
   "cell_type": "markdown",
   "metadata": {},
   "source": [
    "### Transforming creationDate into days"
   ]
  },
  {
   "cell_type": "code",
   "execution_count": 27,
   "metadata": {},
   "outputs": [],
   "source": [
    "df_entities['creationDate_indays'] = df_entities['creationDate'].astype('datetime64[ns]').max()-df_entities['creationDate'].astype('datetime64[ns]')\n",
    "df_entities['creationDate_indays'] = df_entities['creationDate_indays'] / np.timedelta64(1, 'D')"
   ]
  },
  {
   "cell_type": "markdown",
   "metadata": {},
   "source": [
    "### Binning number of deposit and withdrawal days to get frequency categories"
   ]
  },
  {
   "cell_type": "code",
   "execution_count": 28,
   "metadata": {},
   "outputs": [],
   "source": [
    "transaction_cols = ['number_of_cash_dep_90_days','number_of_deposit_90_days',\n",
    "                    'number_of_cash_wd_90_days','number_of_wd_90_days']\n",
    "for col in transaction_cols:\n",
    "    col_bin = col+'_freq'\n",
    "    df_entities[col_bin] = cut(df_entities[col],bins = [-1,0,1],labels = [0,1])"
   ]
  },
  {
   "cell_type": "markdown",
   "metadata": {},
   "source": [
    "### Binning date variables"
   ]
  },
  {
   "cell_type": "code",
   "execution_count": 29,
   "metadata": {},
   "outputs": [],
   "source": [
    "date_cols = ['creationDate_indays']\n",
    "for col in date_cols:\n",
    "    col_bin = col+'_bin'\n",
    "    df_entities[col_bin] = qcut(df_entities[col],q=3)"
   ]
  },
  {
   "cell_type": "markdown",
   "metadata": {},
   "source": [
    "### Encoding Categorical Variable into Numeric Type"
   ]
  },
  {
   "cell_type": "code",
   "execution_count": 30,
   "metadata": {},
   "outputs": [],
   "source": [
    "obj_cat_cols = ['creationDate_indays_bin','onboarding','score_card','residentCountry_label','ledgerCode_label',\n",
    "                'accountCurrency_label','ECO_SEC_label','TYPE_OF_DEP_label','LEGAL_STA_CODE_label',\n",
    "                'number_of_cash_dep_90_days_freq','number_of_deposit_90_days_freq','number_of_cash_wd_90_days_freq',\n",
    "                'number_of_wd_90_days_freq']\n",
    "\n",
    "label_encoder = LabelEncoder()\n",
    "for col in obj_cat_cols:\n",
    "    df_entities[col] = label_encoder.fit_transform(df_entities[col].astype(str))"
   ]
  },
  {
   "cell_type": "markdown",
   "metadata": {},
   "source": [
    "### Plotting Distribution of Variables"
   ]
  },
  {
   "cell_type": "code",
   "execution_count": 31,
   "metadata": {},
   "outputs": [
    {
     "data": {
      "image/png": "[encoded data removed]",
      "text/plain": [
       "<Figure size 864x864 with 25 Axes>"
      ]
     },
     "metadata": {
      "needs_background": "light"
     },
     "output_type": "display_data"
    }
   ],
   "source": [
    "num_cols = ['creationDate_indays_bin','onboarding', 'residentStatus','jointAccount',\n",
    "          'IsBlackListed', 'CUS_CLASS','score_card','companyType',\n",
    "          'residentCountry_label', 'ledgerCode_label', 'accountCurrency_label',\n",
    "          'ECO_SEC_label', 'TYPE_OF_DEP_label', 'LEGAL_STA_CODE_label',\n",
    "          'avg_last_10_days_JOD', 'avg_last_30_days_JOD', 'avg_last_90_days_JOD',\n",
    "          'avg_cash_deposit_90_days_JOD', 'avg_of_dep_90_days_JOD',\n",
    "          'avg_of_cash_wd_90_days_JOD', 'avg_of_wd_90_days_JOD',\n",
    "          'number_of_cash_dep_90_days_freq',\n",
    "          'number_of_deposit_90_days_freq', 'number_of_cash_wd_90_days_freq',\n",
    "          'number_of_wd_90_days_freq']\n",
    "\n",
    "if True:\n",
    "    fontsize = 10\n",
    "    fig = df_entities[num_cols].hist(bins = 20, figsize = (12, 12),\n",
    "                                       xlabelsize=fontsize,\n",
    "                                       ylabelsize=fontsize)\n",
    "    for x in fig.ravel():\n",
    "        x.title.set_size(fontsize)\n",
    "else:\n",
    "    nrows = (len(attribute_columns)+1) // 2\n",
    "    plt.figure(figsize=(12,25))\n",
    "    for i in range(len(attribute_columns)):\n",
    "        name = attribute_columns[i]\n",
    "        plt.subplot(nrows,2,i+1)\n",
    "        data[name].hist()\n",
    "        plt.title(name, fontsize=14)\n",
    "    \n",
    "plt.show()"
   ]
  },
  {
   "cell_type": "code",
   "execution_count": 32,
   "metadata": {},
   "outputs": [],
   "source": [
    "#storing final clean & transform datasets into excel\n",
    "df_individual.to_excel(\"RBA_KYC_Accounts_Ind_Ids_CLEANED.xlsx\")\n",
    "df_entities.to_excel(\"RBA_KYC_Accounts_Ent_Ids_CLEANED.xlsx\")"
   ]
  },
  {
   "cell_type": "markdown",
   "metadata": {},
   "source": [
    "## PCA\n",
    "\n",
    "### Individuals' Dataset"
   ]
  },
  {
   "cell_type": "code",
   "execution_count": 33,
   "metadata": {},
   "outputs": [
    {
     "data": {
      "text/html": [
       "<div>\n",
       "<style scoped>\n",
       "    .dataframe tbody tr th:only-of-type {\n",
       "        vertical-align: middle;\n",
       "    }\n",
       "\n",
       "    .dataframe tbody tr th {\n",
       "        vertical-align: top;\n",
       "    }\n",
       "\n",
       "    .dataframe thead th {\n",
       "        text-align: right;\n",
       "    }\n",
       "</style>\n",
       "<table border=\"1\" class=\"dataframe\">\n",
       "  <thead>\n",
       "    <tr style=\"text-align: right;\">\n",
       "      <th></th>\n",
       "      <th>creationDate_indays_bin</th>\n",
       "      <th>onboarding</th>\n",
       "      <th>residentStatus</th>\n",
       "      <th>age_in_year_bin</th>\n",
       "      <th>jointAccount</th>\n",
       "      <th>IsBlackListed</th>\n",
       "      <th>CUS_CLASS</th>\n",
       "      <th>score_card</th>\n",
       "      <th>profession_label</th>\n",
       "      <th>residentCountry_label</th>\n",
       "      <th>...</th>\n",
       "      <th>avg_last_30_days_JOD</th>\n",
       "      <th>avg_last_90_days_JOD</th>\n",
       "      <th>avg_cash_deposit_90_days_JOD</th>\n",
       "      <th>avg_of_dep_90_days_JOD</th>\n",
       "      <th>avg_of_cash_wd_90_days_JOD</th>\n",
       "      <th>avg_of_wd_90_days_JOD</th>\n",
       "      <th>number_of_cash_dep_90_days_freq</th>\n",
       "      <th>number_of_deposit_90_days_freq</th>\n",
       "      <th>number_of_cash_wd_90_days_freq</th>\n",
       "      <th>number_of_wd_90_days_freq</th>\n",
       "    </tr>\n",
       "  </thead>\n",
       "  <tbody>\n",
       "    <tr>\n",
       "      <th>1</th>\n",
       "      <td>2</td>\n",
       "      <td>0</td>\n",
       "      <td>1</td>\n",
       "      <td>0</td>\n",
       "      <td>0</td>\n",
       "      <td>0</td>\n",
       "      <td>2</td>\n",
       "      <td>1</td>\n",
       "      <td>0</td>\n",
       "      <td>1</td>\n",
       "      <td>...</td>\n",
       "      <td>0.00</td>\n",
       "      <td>0.00</td>\n",
       "      <td>0.0</td>\n",
       "      <td>0.0</td>\n",
       "      <td>0.0</td>\n",
       "      <td>0.0</td>\n",
       "      <td>0</td>\n",
       "      <td>0</td>\n",
       "      <td>0</td>\n",
       "      <td>0</td>\n",
       "    </tr>\n",
       "    <tr>\n",
       "      <th>2</th>\n",
       "      <td>2</td>\n",
       "      <td>0</td>\n",
       "      <td>1</td>\n",
       "      <td>0</td>\n",
       "      <td>0</td>\n",
       "      <td>0</td>\n",
       "      <td>2</td>\n",
       "      <td>1</td>\n",
       "      <td>0</td>\n",
       "      <td>1</td>\n",
       "      <td>...</td>\n",
       "      <td>-34672.52</td>\n",
       "      <td>-369.81</td>\n",
       "      <td>0.0</td>\n",
       "      <td>0.0</td>\n",
       "      <td>0.0</td>\n",
       "      <td>0.0</td>\n",
       "      <td>0</td>\n",
       "      <td>0</td>\n",
       "      <td>0</td>\n",
       "      <td>0</td>\n",
       "    </tr>\n",
       "    <tr>\n",
       "      <th>3</th>\n",
       "      <td>2</td>\n",
       "      <td>0</td>\n",
       "      <td>1</td>\n",
       "      <td>0</td>\n",
       "      <td>0</td>\n",
       "      <td>0</td>\n",
       "      <td>2</td>\n",
       "      <td>1</td>\n",
       "      <td>0</td>\n",
       "      <td>1</td>\n",
       "      <td>...</td>\n",
       "      <td>526.87</td>\n",
       "      <td>6.68</td>\n",
       "      <td>-550.0</td>\n",
       "      <td>-550.0</td>\n",
       "      <td>50.0</td>\n",
       "      <td>50.0</td>\n",
       "      <td>2</td>\n",
       "      <td>2</td>\n",
       "      <td>1</td>\n",
       "      <td>1</td>\n",
       "    </tr>\n",
       "    <tr>\n",
       "      <th>4</th>\n",
       "      <td>2</td>\n",
       "      <td>0</td>\n",
       "      <td>1</td>\n",
       "      <td>0</td>\n",
       "      <td>0</td>\n",
       "      <td>0</td>\n",
       "      <td>2</td>\n",
       "      <td>1</td>\n",
       "      <td>0</td>\n",
       "      <td>1</td>\n",
       "      <td>...</td>\n",
       "      <td>120.50</td>\n",
       "      <td>0.95</td>\n",
       "      <td>-540.0</td>\n",
       "      <td>-540.0</td>\n",
       "      <td>56.0</td>\n",
       "      <td>56.0</td>\n",
       "      <td>2</td>\n",
       "      <td>2</td>\n",
       "      <td>1</td>\n",
       "      <td>1</td>\n",
       "    </tr>\n",
       "    <tr>\n",
       "      <th>5</th>\n",
       "      <td>2</td>\n",
       "      <td>0</td>\n",
       "      <td>1</td>\n",
       "      <td>0</td>\n",
       "      <td>0</td>\n",
       "      <td>0</td>\n",
       "      <td>2</td>\n",
       "      <td>1</td>\n",
       "      <td>0</td>\n",
       "      <td>1</td>\n",
       "      <td>...</td>\n",
       "      <td>0.00</td>\n",
       "      <td>0.00</td>\n",
       "      <td>0.0</td>\n",
       "      <td>0.0</td>\n",
       "      <td>0.0</td>\n",
       "      <td>0.0</td>\n",
       "      <td>0</td>\n",
       "      <td>0</td>\n",
       "      <td>0</td>\n",
       "      <td>0</td>\n",
       "    </tr>\n",
       "  </tbody>\n",
       "</table>\n",
       "<p>5 rows × 26 columns</p>\n",
       "</div>"
      ],
      "text/plain": [
       "   creationDate_indays_bin  onboarding  residentStatus  age_in_year_bin  \\\n",
       "1                        2           0               1                0   \n",
       "2                        2           0               1                0   \n",
       "3                        2           0               1                0   \n",
       "4                        2           0               1                0   \n",
       "5                        2           0               1                0   \n",
       "\n",
       "   jointAccount  IsBlackListed  CUS_CLASS  score_card  profession_label  \\\n",
       "1             0              0          2           1                 0   \n",
       "2             0              0          2           1                 0   \n",
       "3             0              0          2           1                 0   \n",
       "4             0              0          2           1                 0   \n",
       "5             0              0          2           1                 0   \n",
       "\n",
       "   residentCountry_label  ...  avg_last_30_days_JOD  avg_last_90_days_JOD  \\\n",
       "1                      1  ...                  0.00                  0.00   \n",
       "2                      1  ...             -34672.52               -369.81   \n",
       "3                      1  ...                526.87                  6.68   \n",
       "4                      1  ...                120.50                  0.95   \n",
       "5                      1  ...                  0.00                  0.00   \n",
       "\n",
       "   avg_cash_deposit_90_days_JOD  avg_of_dep_90_days_JOD  \\\n",
       "1                           0.0                     0.0   \n",
       "2                           0.0                     0.0   \n",
       "3                        -550.0                  -550.0   \n",
       "4                        -540.0                  -540.0   \n",
       "5                           0.0                     0.0   \n",
       "\n",
       "   avg_of_cash_wd_90_days_JOD  avg_of_wd_90_days_JOD  \\\n",
       "1                         0.0                    0.0   \n",
       "2                         0.0                    0.0   \n",
       "3                        50.0                   50.0   \n",
       "4                        56.0                   56.0   \n",
       "5                         0.0                    0.0   \n",
       "\n",
       "   number_of_cash_dep_90_days_freq  number_of_deposit_90_days_freq  \\\n",
       "1                                0                               0   \n",
       "2                                0                               0   \n",
       "3                                2                               2   \n",
       "4                                2                               2   \n",
       "5                                0                               0   \n",
       "\n",
       "   number_of_cash_wd_90_days_freq  number_of_wd_90_days_freq  \n",
       "1                               0                          0  \n",
       "2                               0                          0  \n",
       "3                               1                          1  \n",
       "4                               1                          1  \n",
       "5                               0                          0  \n",
       "\n",
       "[5 rows x 26 columns]"
      ]
     },
     "execution_count": 33,
     "metadata": {},
     "output_type": "execute_result"
    }
   ],
   "source": [
    "#selecting the numerical columns\n",
    "inputs = ['creationDate_indays_bin','onboarding', 'residentStatus','age_in_year_bin','jointAccount',\n",
    "          'IsBlackListed', 'CUS_CLASS','score_card','profession_label',\n",
    "          'residentCountry_label', 'ledgerCode_label', 'accountCurrency_label',\n",
    "          'ECO_SEC_label', 'TYPE_OF_DEP_label', 'LEGAL_STA_CODE_label',\n",
    "          'avg_last_10_days_JOD', 'avg_last_30_days_JOD', 'avg_last_90_days_JOD',\n",
    "          'avg_cash_deposit_90_days_JOD', 'avg_of_dep_90_days_JOD',\n",
    "          'avg_of_cash_wd_90_days_JOD', 'avg_of_wd_90_days_JOD',\n",
    "          'number_of_cash_dep_90_days_freq',\n",
    "          'number_of_deposit_90_days_freq', 'number_of_cash_wd_90_days_freq',\n",
    "          'number_of_wd_90_days_freq'] \n",
    "\n",
    "#creating the PCA dataframe\n",
    "df_PCA = df_individual[inputs]\n",
    "df_PCA.head()"
   ]
  },
  {
   "cell_type": "code",
   "execution_count": 34,
   "metadata": {},
   "outputs": [
    {
     "name": "stderr",
     "output_type": "stream",
     "text": [
      "<ipython-input-34-1c0fe418fbc6>:5: SettingWithCopyWarning: \n",
      "A value is trying to be set on a copy of a slice from a DataFrame.\n",
      "Try using .loc[row_indexer,col_indexer] = value instead\n",
      "\n",
      "See the caveats in the documentation: https://pandas.pydata.org/pandas-docs/stable/user_guide/indexing.html#returning-a-view-versus-a-copy\n",
      "  df_PCA[num_cols] = scaler.fit_transform(df_PCA[num_cols])\n",
      "C:\\Users\\alvar\\anaconda3\\lib\\site-packages\\pandas\\core\\indexing.py:1736: SettingWithCopyWarning: \n",
      "A value is trying to be set on a copy of a slice from a DataFrame.\n",
      "Try using .loc[row_indexer,col_indexer] = value instead\n",
      "\n",
      "See the caveats in the documentation: https://pandas.pydata.org/pandas-docs/stable/user_guide/indexing.html#returning-a-view-versus-a-copy\n",
      "  isetter(loc, value[:, i].tolist())\n"
     ]
    },
    {
     "data": {
      "text/html": [
       "<div>\n",
       "<style scoped>\n",
       "    .dataframe tbody tr th:only-of-type {\n",
       "        vertical-align: middle;\n",
       "    }\n",
       "\n",
       "    .dataframe tbody tr th {\n",
       "        vertical-align: top;\n",
       "    }\n",
       "\n",
       "    .dataframe thead th {\n",
       "        text-align: right;\n",
       "    }\n",
       "</style>\n",
       "<table border=\"1\" class=\"dataframe\">\n",
       "  <thead>\n",
       "    <tr style=\"text-align: right;\">\n",
       "      <th></th>\n",
       "      <th>principal component 1</th>\n",
       "      <th>principal component 2</th>\n",
       "    </tr>\n",
       "  </thead>\n",
       "  <tbody>\n",
       "    <tr>\n",
       "      <th>0</th>\n",
       "      <td>0.028027</td>\n",
       "      <td>-0.907819</td>\n",
       "    </tr>\n",
       "    <tr>\n",
       "      <th>1</th>\n",
       "      <td>0.031922</td>\n",
       "      <td>-0.907688</td>\n",
       "    </tr>\n",
       "    <tr>\n",
       "      <th>2</th>\n",
       "      <td>-0.128776</td>\n",
       "      <td>3.737502</td>\n",
       "    </tr>\n",
       "    <tr>\n",
       "      <th>3</th>\n",
       "      <td>-0.128728</td>\n",
       "      <td>3.737605</td>\n",
       "    </tr>\n",
       "    <tr>\n",
       "      <th>4</th>\n",
       "      <td>0.028027</td>\n",
       "      <td>-0.907819</td>\n",
       "    </tr>\n",
       "  </tbody>\n",
       "</table>\n",
       "</div>"
      ],
      "text/plain": [
       "   principal component 1  principal component 2\n",
       "0               0.028027              -0.907819\n",
       "1               0.031922              -0.907688\n",
       "2              -0.128776               3.737502\n",
       "3              -0.128728               3.737605\n",
       "4               0.028027              -0.907819"
      ]
     },
     "execution_count": 34,
     "metadata": {},
     "output_type": "execute_result"
    }
   ],
   "source": [
    "#standardising and scaling the variables\n",
    "num_cols = df_PCA.columns[df_PCA.dtypes.apply(lambda c: np.issubdtype(c, np.number))]\n",
    "num_cols\n",
    "scaler = StandardScaler()\n",
    "df_PCA[num_cols] = scaler.fit_transform(df_PCA[num_cols])\n",
    "\n",
    "#principle component analysis\n",
    "pca = PCA(n_components=2)\n",
    "principalComponents = pca.fit_transform(df_PCA)\n",
    "principalDf = pd.DataFrame(data = principalComponents\n",
    "             , columns = ['principal component 1', 'principal component 2'])\n",
    "principalDf.head()"
   ]
  },
  {
   "cell_type": "code",
   "execution_count": 35,
   "metadata": {},
   "outputs": [
    {
     "data": {
      "text/html": [
       "<div>\n",
       "<style scoped>\n",
       "    .dataframe tbody tr th:only-of-type {\n",
       "        vertical-align: middle;\n",
       "    }\n",
       "\n",
       "    .dataframe tbody tr th {\n",
       "        vertical-align: top;\n",
       "    }\n",
       "\n",
       "    .dataframe thead th {\n",
       "        text-align: right;\n",
       "    }\n",
       "</style>\n",
       "<table border=\"1\" class=\"dataframe\">\n",
       "  <thead>\n",
       "    <tr style=\"text-align: right;\">\n",
       "      <th></th>\n",
       "      <th>principal component 1</th>\n",
       "      <th>principal component 2</th>\n",
       "      <th>rbaGradeAbrv</th>\n",
       "    </tr>\n",
       "  </thead>\n",
       "  <tbody>\n",
       "    <tr>\n",
       "      <th>0</th>\n",
       "      <td>0.028027</td>\n",
       "      <td>-0.907819</td>\n",
       "      <td>NaN</td>\n",
       "    </tr>\n",
       "    <tr>\n",
       "      <th>1</th>\n",
       "      <td>0.031922</td>\n",
       "      <td>-0.907688</td>\n",
       "      <td>L</td>\n",
       "    </tr>\n",
       "    <tr>\n",
       "      <th>2</th>\n",
       "      <td>-0.128776</td>\n",
       "      <td>3.737502</td>\n",
       "      <td>L</td>\n",
       "    </tr>\n",
       "    <tr>\n",
       "      <th>3</th>\n",
       "      <td>-0.128728</td>\n",
       "      <td>3.737605</td>\n",
       "      <td>L</td>\n",
       "    </tr>\n",
       "    <tr>\n",
       "      <th>4</th>\n",
       "      <td>0.028027</td>\n",
       "      <td>-0.907819</td>\n",
       "      <td>L</td>\n",
       "    </tr>\n",
       "  </tbody>\n",
       "</table>\n",
       "</div>"
      ],
      "text/plain": [
       "   principal component 1  principal component 2 rbaGradeAbrv\n",
       "0               0.028027              -0.907819          NaN\n",
       "1               0.031922              -0.907688            L\n",
       "2              -0.128776               3.737502            L\n",
       "3              -0.128728               3.737605            L\n",
       "4               0.028027              -0.907819            L"
      ]
     },
     "execution_count": 35,
     "metadata": {},
     "output_type": "execute_result"
    }
   ],
   "source": [
    "finalDf = pd.concat([principalDf, df_individual[['rbaGradeAbrv']]], axis = 1)\n",
    "finalDf.head()"
   ]
  },
  {
   "cell_type": "code",
   "execution_count": 36,
   "metadata": {},
   "outputs": [
    {
     "name": "stdout",
     "output_type": "stream",
     "text": [
      "[0.11995278 0.11612106]\n"
     ]
    },
    {
     "data": {
      "text/markdown": [
       "<b>Only 12% of the variance can be explained with PCA.</b>"
      ],
      "text/plain": [
       "<IPython.core.display.Markdown object>"
      ]
     },
     "metadata": {},
     "output_type": "display_data"
    },
    {
     "data": {
      "image/png": "[encoded data removed]",
      "text/plain": [
       "<Figure size 576x576 with 1 Axes>"
      ]
     },
     "metadata": {
      "needs_background": "light"
     },
     "output_type": "display_data"
    }
   ],
   "source": [
    "df_individual[['org_code','rbaGradeAbrv']].groupby('rbaGradeAbrv').count()\n",
    "print(pca.explained_variance_ratio_)\n",
    "\n",
    "display(Markdown('<b>Only 12% of the variance can be explained with PCA.</b>'))\n",
    "\n",
    "## plotting PCA results\n",
    "%matplotlib inline\n",
    "fig = plt.figure(figsize = (8,8))\n",
    "ax = fig.add_subplot(1,1,1) \n",
    "ax.set_xlabel('Principal Component 1', fontsize = 15)\n",
    "ax.set_ylabel('Principal Component 2', fontsize = 15)\n",
    "ax.set_title('2 component PCA', fontsize = 20)\n",
    "\n",
    "targets = ['H', 'M', 'L']\n",
    "colors = ['r', 'g', 'b']\n",
    "for target, color in zip(targets,colors):\n",
    "    indicesToKeep = finalDf['rbaGradeAbrv'] == target\n",
    "    ax.scatter(finalDf.loc[indicesToKeep, 'principal component 1']\n",
    "               , finalDf.loc[indicesToKeep, 'principal component 2']\n",
    "               , c = color\n",
    "               , s = 50)\n",
    "ax.legend(targets)\n",
    "ax.grid()"
   ]
  },
  {
   "cell_type": "markdown",
   "metadata": {},
   "source": [
    "### Entities Dataset"
   ]
  },
  {
   "cell_type": "code",
   "execution_count": 37,
   "metadata": {},
   "outputs": [
    {
     "data": {
      "text/html": [
       "<div>\n",
       "<style scoped>\n",
       "    .dataframe tbody tr th:only-of-type {\n",
       "        vertical-align: middle;\n",
       "    }\n",
       "\n",
       "    .dataframe tbody tr th {\n",
       "        vertical-align: top;\n",
       "    }\n",
       "\n",
       "    .dataframe thead th {\n",
       "        text-align: right;\n",
       "    }\n",
       "</style>\n",
       "<table border=\"1\" class=\"dataframe\">\n",
       "  <thead>\n",
       "    <tr style=\"text-align: right;\">\n",
       "      <th></th>\n",
       "      <th>creationDate_indays_bin</th>\n",
       "      <th>onboarding</th>\n",
       "      <th>residentStatus</th>\n",
       "      <th>jointAccount</th>\n",
       "      <th>IsBlackListed</th>\n",
       "      <th>CUS_CLASS</th>\n",
       "      <th>score_card</th>\n",
       "      <th>companyType</th>\n",
       "      <th>residentCountry_label</th>\n",
       "      <th>ledgerCode_label</th>\n",
       "      <th>...</th>\n",
       "      <th>avg_last_30_days_JOD</th>\n",
       "      <th>avg_last_90_days_JOD</th>\n",
       "      <th>avg_cash_deposit_90_days_JOD</th>\n",
       "      <th>avg_of_dep_90_days_JOD</th>\n",
       "      <th>avg_of_cash_wd_90_days_JOD</th>\n",
       "      <th>avg_of_wd_90_days_JOD</th>\n",
       "      <th>number_of_cash_dep_90_days_freq</th>\n",
       "      <th>number_of_deposit_90_days_freq</th>\n",
       "      <th>number_of_cash_wd_90_days_freq</th>\n",
       "      <th>number_of_wd_90_days_freq</th>\n",
       "    </tr>\n",
       "  </thead>\n",
       "  <tbody>\n",
       "    <tr>\n",
       "      <th>0</th>\n",
       "      <td>0</td>\n",
       "      <td>0</td>\n",
       "      <td>1</td>\n",
       "      <td>0</td>\n",
       "      <td>0</td>\n",
       "      <td>4</td>\n",
       "      <td>0</td>\n",
       "      <td>35.0</td>\n",
       "      <td>1</td>\n",
       "      <td>2</td>\n",
       "      <td>...</td>\n",
       "      <td>2170000.00</td>\n",
       "      <td>23333.33</td>\n",
       "      <td>0.0</td>\n",
       "      <td>0.0</td>\n",
       "      <td>0.0</td>\n",
       "      <td>0.0</td>\n",
       "      <td>0</td>\n",
       "      <td>0</td>\n",
       "      <td>0</td>\n",
       "      <td>0</td>\n",
       "    </tr>\n",
       "    <tr>\n",
       "      <th>10</th>\n",
       "      <td>1</td>\n",
       "      <td>0</td>\n",
       "      <td>1</td>\n",
       "      <td>0</td>\n",
       "      <td>0</td>\n",
       "      <td>2</td>\n",
       "      <td>0</td>\n",
       "      <td>0.0</td>\n",
       "      <td>1</td>\n",
       "      <td>3</td>\n",
       "      <td>...</td>\n",
       "      <td>647.24</td>\n",
       "      <td>7.16</td>\n",
       "      <td>0.0</td>\n",
       "      <td>0.0</td>\n",
       "      <td>0.0</td>\n",
       "      <td>0.0</td>\n",
       "      <td>0</td>\n",
       "      <td>0</td>\n",
       "      <td>0</td>\n",
       "      <td>0</td>\n",
       "    </tr>\n",
       "    <tr>\n",
       "      <th>11</th>\n",
       "      <td>1</td>\n",
       "      <td>0</td>\n",
       "      <td>1</td>\n",
       "      <td>0</td>\n",
       "      <td>0</td>\n",
       "      <td>2</td>\n",
       "      <td>0</td>\n",
       "      <td>0.0</td>\n",
       "      <td>1</td>\n",
       "      <td>1</td>\n",
       "      <td>...</td>\n",
       "      <td>-1060.71</td>\n",
       "      <td>-11.45</td>\n",
       "      <td>0.0</td>\n",
       "      <td>0.0</td>\n",
       "      <td>0.0</td>\n",
       "      <td>0.0</td>\n",
       "      <td>0</td>\n",
       "      <td>0</td>\n",
       "      <td>0</td>\n",
       "      <td>0</td>\n",
       "    </tr>\n",
       "    <tr>\n",
       "      <th>12</th>\n",
       "      <td>1</td>\n",
       "      <td>0</td>\n",
       "      <td>1</td>\n",
       "      <td>0</td>\n",
       "      <td>0</td>\n",
       "      <td>2</td>\n",
       "      <td>0</td>\n",
       "      <td>0.0</td>\n",
       "      <td>1</td>\n",
       "      <td>1</td>\n",
       "      <td>...</td>\n",
       "      <td>-2951.93</td>\n",
       "      <td>-31.89</td>\n",
       "      <td>0.0</td>\n",
       "      <td>0.0</td>\n",
       "      <td>0.0</td>\n",
       "      <td>0.0</td>\n",
       "      <td>0</td>\n",
       "      <td>0</td>\n",
       "      <td>0</td>\n",
       "      <td>0</td>\n",
       "    </tr>\n",
       "    <tr>\n",
       "      <th>13</th>\n",
       "      <td>1</td>\n",
       "      <td>0</td>\n",
       "      <td>1</td>\n",
       "      <td>0</td>\n",
       "      <td>0</td>\n",
       "      <td>2</td>\n",
       "      <td>0</td>\n",
       "      <td>0.0</td>\n",
       "      <td>1</td>\n",
       "      <td>1</td>\n",
       "      <td>...</td>\n",
       "      <td>0.00</td>\n",
       "      <td>0.00</td>\n",
       "      <td>0.0</td>\n",
       "      <td>0.0</td>\n",
       "      <td>0.0</td>\n",
       "      <td>0.0</td>\n",
       "      <td>0</td>\n",
       "      <td>0</td>\n",
       "      <td>0</td>\n",
       "      <td>0</td>\n",
       "    </tr>\n",
       "  </tbody>\n",
       "</table>\n",
       "<p>5 rows × 25 columns</p>\n",
       "</div>"
      ],
      "text/plain": [
       "    creationDate_indays_bin  onboarding  residentStatus  jointAccount  \\\n",
       "0                         0           0               1             0   \n",
       "10                        1           0               1             0   \n",
       "11                        1           0               1             0   \n",
       "12                        1           0               1             0   \n",
       "13                        1           0               1             0   \n",
       "\n",
       "    IsBlackListed  CUS_CLASS  score_card  companyType  residentCountry_label  \\\n",
       "0               0          4           0         35.0                      1   \n",
       "10              0          2           0          0.0                      1   \n",
       "11              0          2           0          0.0                      1   \n",
       "12              0          2           0          0.0                      1   \n",
       "13              0          2           0          0.0                      1   \n",
       "\n",
       "    ledgerCode_label  ...  avg_last_30_days_JOD  avg_last_90_days_JOD  \\\n",
       "0                  2  ...            2170000.00              23333.33   \n",
       "10                 3  ...                647.24                  7.16   \n",
       "11                 1  ...              -1060.71                -11.45   \n",
       "12                 1  ...              -2951.93                -31.89   \n",
       "13                 1  ...                  0.00                  0.00   \n",
       "\n",
       "    avg_cash_deposit_90_days_JOD  avg_of_dep_90_days_JOD  \\\n",
       "0                            0.0                     0.0   \n",
       "10                           0.0                     0.0   \n",
       "11                           0.0                     0.0   \n",
       "12                           0.0                     0.0   \n",
       "13                           0.0                     0.0   \n",
       "\n",
       "    avg_of_cash_wd_90_days_JOD  avg_of_wd_90_days_JOD  \\\n",
       "0                          0.0                    0.0   \n",
       "10                         0.0                    0.0   \n",
       "11                         0.0                    0.0   \n",
       "12                         0.0                    0.0   \n",
       "13                         0.0                    0.0   \n",
       "\n",
       "    number_of_cash_dep_90_days_freq  number_of_deposit_90_days_freq  \\\n",
       "0                                 0                               0   \n",
       "10                                0                               0   \n",
       "11                                0                               0   \n",
       "12                                0                               0   \n",
       "13                                0                               0   \n",
       "\n",
       "    number_of_cash_wd_90_days_freq  number_of_wd_90_days_freq  \n",
       "0                                0                          0  \n",
       "10                               0                          0  \n",
       "11                               0                          0  \n",
       "12                               0                          0  \n",
       "13                               0                          0  \n",
       "\n",
       "[5 rows x 25 columns]"
      ]
     },
     "execution_count": 37,
     "metadata": {},
     "output_type": "execute_result"
    }
   ],
   "source": [
    "#selecting the numerical columns\n",
    "inputs = ['creationDate_indays_bin','onboarding', 'residentStatus','jointAccount',\n",
    "          'IsBlackListed', 'CUS_CLASS','score_card','companyType',\n",
    "          'residentCountry_label', 'ledgerCode_label', 'accountCurrency_label',\n",
    "          'ECO_SEC_label', 'TYPE_OF_DEP_label', 'LEGAL_STA_CODE_label',\n",
    "          'avg_last_10_days_JOD', 'avg_last_30_days_JOD', 'avg_last_90_days_JOD',\n",
    "          'avg_cash_deposit_90_days_JOD', 'avg_of_dep_90_days_JOD',\n",
    "          'avg_of_cash_wd_90_days_JOD', 'avg_of_wd_90_days_JOD',\n",
    "          'number_of_cash_dep_90_days_freq','number_of_deposit_90_days_freq',\n",
    "          'number_of_cash_wd_90_days_freq','number_of_wd_90_days_freq'] \n",
    "\n",
    "#creating the PCA dataframe\n",
    "df_PCA = df_entities[inputs]\n",
    "df_PCA.head()"
   ]
  },
  {
   "cell_type": "code",
   "execution_count": 38,
   "metadata": {},
   "outputs": [
    {
     "name": "stderr",
     "output_type": "stream",
     "text": [
      "<ipython-input-38-1c0fe418fbc6>:5: SettingWithCopyWarning: \n",
      "A value is trying to be set on a copy of a slice from a DataFrame.\n",
      "Try using .loc[row_indexer,col_indexer] = value instead\n",
      "\n",
      "See the caveats in the documentation: https://pandas.pydata.org/pandas-docs/stable/user_guide/indexing.html#returning-a-view-versus-a-copy\n",
      "  df_PCA[num_cols] = scaler.fit_transform(df_PCA[num_cols])\n",
      "C:\\Users\\alvar\\anaconda3\\lib\\site-packages\\pandas\\core\\indexing.py:1736: SettingWithCopyWarning: \n",
      "A value is trying to be set on a copy of a slice from a DataFrame.\n",
      "Try using .loc[row_indexer,col_indexer] = value instead\n",
      "\n",
      "See the caveats in the documentation: https://pandas.pydata.org/pandas-docs/stable/user_guide/indexing.html#returning-a-view-versus-a-copy\n",
      "  isetter(loc, value[:, i].tolist())\n"
     ]
    },
    {
     "data": {
      "text/html": [
       "<div>\n",
       "<style scoped>\n",
       "    .dataframe tbody tr th:only-of-type {\n",
       "        vertical-align: middle;\n",
       "    }\n",
       "\n",
       "    .dataframe tbody tr th {\n",
       "        vertical-align: top;\n",
       "    }\n",
       "\n",
       "    .dataframe thead th {\n",
       "        text-align: right;\n",
       "    }\n",
       "</style>\n",
       "<table border=\"1\" class=\"dataframe\">\n",
       "  <thead>\n",
       "    <tr style=\"text-align: right;\">\n",
       "      <th></th>\n",
       "      <th>principal component 1</th>\n",
       "      <th>principal component 2</th>\n",
       "    </tr>\n",
       "  </thead>\n",
       "  <tbody>\n",
       "    <tr>\n",
       "      <th>0</th>\n",
       "      <td>0.043199</td>\n",
       "      <td>-4.264878</td>\n",
       "    </tr>\n",
       "    <tr>\n",
       "      <th>1</th>\n",
       "      <td>-0.557286</td>\n",
       "      <td>-0.423763</td>\n",
       "    </tr>\n",
       "    <tr>\n",
       "      <th>2</th>\n",
       "      <td>-0.401461</td>\n",
       "      <td>-0.136938</td>\n",
       "    </tr>\n",
       "    <tr>\n",
       "      <th>3</th>\n",
       "      <td>-0.401965</td>\n",
       "      <td>-0.133429</td>\n",
       "    </tr>\n",
       "    <tr>\n",
       "      <th>4</th>\n",
       "      <td>-0.401179</td>\n",
       "      <td>-0.138904</td>\n",
       "    </tr>\n",
       "  </tbody>\n",
       "</table>\n",
       "</div>"
      ],
      "text/plain": [
       "   principal component 1  principal component 2\n",
       "0               0.043199              -4.264878\n",
       "1              -0.557286              -0.423763\n",
       "2              -0.401461              -0.136938\n",
       "3              -0.401965              -0.133429\n",
       "4              -0.401179              -0.138904"
      ]
     },
     "execution_count": 38,
     "metadata": {},
     "output_type": "execute_result"
    }
   ],
   "source": [
    "#standardising and scaling the variables\n",
    "num_cols = df_PCA.columns[df_PCA.dtypes.apply(lambda c: np.issubdtype(c, np.number))]\n",
    "num_cols\n",
    "scaler = StandardScaler()\n",
    "df_PCA[num_cols] = scaler.fit_transform(df_PCA[num_cols])\n",
    "\n",
    "#principle component analysis\n",
    "pca = PCA(n_components=2)\n",
    "principalComponents = pca.fit_transform(df_PCA)\n",
    "principalDf = pd.DataFrame(data = principalComponents\n",
    "             , columns = ['principal component 1', 'principal component 2'])\n",
    "principalDf.head()"
   ]
  },
  {
   "cell_type": "code",
   "execution_count": 39,
   "metadata": {},
   "outputs": [
    {
     "data": {
      "text/html": [
       "<div>\n",
       "<style scoped>\n",
       "    .dataframe tbody tr th:only-of-type {\n",
       "        vertical-align: middle;\n",
       "    }\n",
       "\n",
       "    .dataframe tbody tr th {\n",
       "        vertical-align: top;\n",
       "    }\n",
       "\n",
       "    .dataframe thead th {\n",
       "        text-align: right;\n",
       "    }\n",
       "</style>\n",
       "<table border=\"1\" class=\"dataframe\">\n",
       "  <thead>\n",
       "    <tr style=\"text-align: right;\">\n",
       "      <th></th>\n",
       "      <th>principal component 1</th>\n",
       "      <th>principal component 2</th>\n",
       "      <th>rbaGradeAbrv</th>\n",
       "    </tr>\n",
       "  </thead>\n",
       "  <tbody>\n",
       "    <tr>\n",
       "      <th>0</th>\n",
       "      <td>0.043199</td>\n",
       "      <td>-4.264878</td>\n",
       "      <td>L</td>\n",
       "    </tr>\n",
       "    <tr>\n",
       "      <th>1</th>\n",
       "      <td>-0.557286</td>\n",
       "      <td>-0.423763</td>\n",
       "      <td>NaN</td>\n",
       "    </tr>\n",
       "    <tr>\n",
       "      <th>2</th>\n",
       "      <td>-0.401461</td>\n",
       "      <td>-0.136938</td>\n",
       "      <td>NaN</td>\n",
       "    </tr>\n",
       "    <tr>\n",
       "      <th>3</th>\n",
       "      <td>-0.401965</td>\n",
       "      <td>-0.133429</td>\n",
       "      <td>NaN</td>\n",
       "    </tr>\n",
       "    <tr>\n",
       "      <th>4</th>\n",
       "      <td>-0.401179</td>\n",
       "      <td>-0.138904</td>\n",
       "      <td>NaN</td>\n",
       "    </tr>\n",
       "  </tbody>\n",
       "</table>\n",
       "</div>"
      ],
      "text/plain": [
       "   principal component 1  principal component 2 rbaGradeAbrv\n",
       "0               0.043199              -4.264878            L\n",
       "1              -0.557286              -0.423763          NaN\n",
       "2              -0.401461              -0.136938          NaN\n",
       "3              -0.401965              -0.133429          NaN\n",
       "4              -0.401179              -0.138904          NaN"
      ]
     },
     "execution_count": 39,
     "metadata": {},
     "output_type": "execute_result"
    }
   ],
   "source": [
    "finalDf = pd.concat([principalDf, df_entities[['rbaGradeAbrv']]], axis = 1)\n",
    "finalDf.head()"
   ]
  },
  {
   "cell_type": "code",
   "execution_count": 40,
   "metadata": {},
   "outputs": [
    {
     "name": "stdout",
     "output_type": "stream",
     "text": [
      "[0.13321861 0.12369823]\n"
     ]
    },
    {
     "data": {
      "text/markdown": [
       "<b>Only 13% of the variance can be explained with PCA.</b>"
      ],
      "text/plain": [
       "<IPython.core.display.Markdown object>"
      ]
     },
     "metadata": {},
     "output_type": "display_data"
    },
    {
     "data": {
      "image/png": "[encoded data removed]",
      "text/plain": [
       "<Figure size 576x576 with 1 Axes>"
      ]
     },
     "metadata": {
      "needs_background": "light"
     },
     "output_type": "display_data"
    }
   ],
   "source": [
    "df_entities[['org_code','rbaGradeAbrv']].groupby('rbaGradeAbrv').count()\n",
    "print(pca.explained_variance_ratio_)\n",
    "\n",
    "display(Markdown('<b>Only 13% of the variance can be explained with PCA.</b>'))\n",
    "\n",
    "## plotting PCA results\n",
    "%matplotlib inline\n",
    "fig = plt.figure(figsize = (8,8))\n",
    "ax = fig.add_subplot(1,1,1) \n",
    "ax.set_xlabel('Principal Component 1', fontsize = 15)\n",
    "ax.set_ylabel('Principal Component 2', fontsize = 15)\n",
    "ax.set_title('2 component PCA', fontsize = 20)\n",
    "\n",
    "targets = ['H', 'M', 'L']\n",
    "colors = ['r', 'g', 'b']\n",
    "for target, color in zip(targets,colors):\n",
    "    indicesToKeep = finalDf['rbaGradeAbrv'] == target\n",
    "    ax.scatter(finalDf.loc[indicesToKeep, 'principal component 1']\n",
    "               , finalDf.loc[indicesToKeep, 'principal component 2']\n",
    "               , c = color\n",
    "               , s = 50)\n",
    "ax.legend(targets)\n",
    "ax.grid()"
   ]
  },
  {
   "cell_type": "markdown",
   "metadata": {},
   "source": [
    "## XGBoost Regressor - Training & Prediction\n",
    "\n",
    "### Individual Dataset"
   ]
  },
  {
   "cell_type": "code",
   "execution_count": 41,
   "metadata": {},
   "outputs": [],
   "source": [
    "#reading data\n",
    "df_individual = pd.read_excel(\"RBA_KYC_Accounts_Ind_Ids_CLEANED.xlsx\")"
   ]
  },
  {
   "cell_type": "code",
   "execution_count": 42,
   "metadata": {},
   "outputs": [],
   "source": [
    "#defining input variables\n",
    "inputs = ['creationDate_indays_bin', 'residentStatus','age_in_year_bin','jointAccount',\n",
    "          'IsBlackListed', 'CUS_CLASS','profession_label',\n",
    "          'residentCountry_label', 'ledgerCode_label', 'accountCurrency_label',\n",
    "          'ECO_SEC_label', 'TYPE_OF_DEP_label', 'LEGAL_STA_CODE_label',\n",
    "          'avg_last_10_days_JOD', 'avg_last_30_days_JOD', 'avg_last_90_days_JOD',\n",
    "          'avg_cash_deposit_90_days_JOD', 'avg_of_dep_90_days_JOD',\n",
    "          'avg_of_cash_wd_90_days_JOD', 'avg_of_wd_90_days_JOD',\n",
    "          'number_of_cash_dep_90_days_freq',\n",
    "          'number_of_deposit_90_days_freq', 'number_of_cash_wd_90_days_freq',\n",
    "          'number_of_wd_90_days_freq']\n",
    "X_ind = df_individual[inputs]\n",
    "\n",
    "#defining output variables\n",
    "output_var = 'rbaValue'\n",
    "y_ind=df_individual[output_var]\n",
    "\n",
    "#splitting data in train and test sets\n",
    "X_ind_train, X_ind_test, y_ind_train, y_ind_test = train_test_split(X_ind, y_ind, test_size=0.33, random_state=42)\n",
    "\n",
    "# Fitting regression model\n",
    "params = {'n_estimators': 150, 'learning_rate' : 0.1,'max_depth': 10, 'min_samples_split': 2,'random_state':42,\n",
    "          'max_features':'auto'}\n",
    "clf = GradientBoostingRegressor(**params)\n",
    "clf.fit(X_ind_train, y_ind_train)\n",
    "\n",
    "# Making predictions\n",
    "y_ind_train_preds = clf.predict(X_ind_train)\n",
    "y_ind_test_preds = clf.predict(X_ind_test)"
   ]
  },
  {
   "cell_type": "markdown",
   "metadata": {},
   "source": [
    "### Entities Dataset"
   ]
  },
  {
   "cell_type": "code",
   "execution_count": 43,
   "metadata": {},
   "outputs": [],
   "source": [
    "#reading data\n",
    "df_entities = pd.read_excel(\"RBA_KYC_Accounts_Ent_Ids_CLEANED.xlsx\")"
   ]
  },
  {
   "cell_type": "code",
   "execution_count": 44,
   "metadata": {},
   "outputs": [],
   "source": [
    "#defining input variables\n",
    "inputs = ['creationDate_indays_bin', 'residentStatus','jointAccount',\n",
    "          'IsBlackListed', 'CUS_CLASS','companyType',\n",
    "          'residentCountry_label', 'ledgerCode_label', 'accountCurrency_label',\n",
    "          'ECO_SEC_label', 'TYPE_OF_DEP_label', 'LEGAL_STA_CODE_label',\n",
    "          'avg_last_10_days_JOD', 'avg_last_30_days_JOD', 'avg_last_90_days_JOD',\n",
    "          'avg_cash_deposit_90_days_JOD', 'avg_of_dep_90_days_JOD',\n",
    "          'avg_of_cash_wd_90_days_JOD', 'avg_of_wd_90_days_JOD',\n",
    "          'number_of_cash_dep_90_days_freq',\n",
    "          'number_of_deposit_90_days_freq', 'number_of_cash_wd_90_days_freq',\n",
    "          'number_of_wd_90_days_freq']\n",
    "X_ent = df_entities[inputs]\n",
    "\n",
    "#defining output variables\n",
    "output_var = 'rbaValue'\n",
    "y_ent=df_entities[output_var]\n",
    "\n",
    "#splitting data in train and test sets\n",
    "X_ent_train, X_ent_test, y_ent_train, y_ent_test = train_test_split(X_ent, y_ent, test_size=0.33, random_state=42)\n",
    "\n",
    "# Fitting regression model\n",
    "params = {'n_estimators': 150, 'learning_rate' : 0.1,'max_depth': 10, 'min_samples_split': 2,'random_state':42,\n",
    "          'max_features':'auto'}\n",
    "clf = GradientBoostingRegressor(**params)\n",
    "clf.fit(X_ent_train, y_ent_train)\n",
    "\n",
    "# Making predictions\n",
    "y_ent_train_preds = clf.predict(X_ent_train)\n",
    "y_ent_test_preds = clf.predict(X_ent_test)"
   ]
  },
  {
   "cell_type": "markdown",
   "metadata": {},
   "source": [
    "## XGBoost Regressor - Evaluation\n",
    "### Individual Dataset"
   ]
  },
  {
   "cell_type": "code",
   "execution_count": 45,
   "metadata": {},
   "outputs": [
    {
     "name": "stdout",
     "output_type": "stream",
     "text": [
      "spearman rank correlation - train= 0.7323652689265846 0.0\n",
      "spearman rank correlation - test= 0.6902376043091203 0.0\n",
      "RMSE - train= 4.740973369782845\n",
      "RMSE - test= 5.286212506429283\n"
     ]
    }
   ],
   "source": [
    "# spearman correlation between predicted and observed values\n",
    "corr, p_value = spearmanr(y_ind_train, y_ind_train_preds)\n",
    "print(\"spearman rank correlation - train=\",corr, p_value)\n",
    "corr, p_value = spearmanr(y_ind_test, y_ind_test_preds)\n",
    "print(\"spearman rank correlation - test=\",corr, p_value)\n",
    "# RMSE\n",
    "print(\"RMSE - train=\", mean_squared_error(y_ind_train, y_ind_train_preds, squared=False))\n",
    "print(\"RMSE - test=\", mean_squared_error(y_ind_test, y_ind_test_preds, squared=False))"
   ]
  },
  {
   "cell_type": "markdown",
   "metadata": {},
   "source": [
    "### Entities Dataset"
   ]
  },
  {
   "cell_type": "code",
   "execution_count": 46,
   "metadata": {},
   "outputs": [
    {
     "name": "stdout",
     "output_type": "stream",
     "text": [
      "spearman rank correlation - train= 0.8696186730388984 0.0\n",
      "spearman rank correlation - test= 0.7765667081150195 0.0\n",
      "RMSE - train= 3.4295527681067846\n",
      "RMSE - test= 5.064745051222977\n"
     ]
    }
   ],
   "source": [
    "# spearman correlation between predicted and observed values\n",
    "corr, p_value = spearmanr(y_ent_train, y_ent_train_preds)\n",
    "print(\"spearman rank correlation - train=\",corr, p_value)\n",
    "corr, p_value = spearmanr(y_ent_test, y_ent_test_preds)\n",
    "print(\"spearman rank correlation - test=\",corr, p_value)\n",
    "# RMSE\n",
    "print(\"RMSE - train=\", mean_squared_error(y_ent_train, y_ent_train_preds, squared=False))\n",
    "print(\"RMSE - test=\", mean_squared_error(y_ent_test, y_ent_test_preds, squared=False))"
   ]
  },
  {
   "cell_type": "markdown",
   "metadata": {},
   "source": [
    "### Combined Evalutation"
   ]
  },
  {
   "cell_type": "code",
   "execution_count": 47,
   "metadata": {},
   "outputs": [
    {
     "name": "stdout",
     "output_type": "stream",
     "text": [
      "spearman rank correlation - train= 0.7558921063219008 0.0\n",
      "spearman rank correlation - test= 0.7086458762914501 0.0\n",
      "RMSE - train= 4.608332586323961\n",
      "RMSE - test= 5.26105460529133\n"
     ]
    }
   ],
   "source": [
    "y_train = pd.concat([y_ind_train,y_ent_train])\n",
    "y_train_preds = np.concatenate((y_ind_train_preds,y_ent_train_preds))\n",
    "y_test = pd.concat([y_ind_test,y_ent_test])\n",
    "y_test_preds = np.concatenate((y_ind_test_preds,y_ent_test_preds))\n",
    "# spearman correlation between predicted and observed values\n",
    "corr, p_value = spearmanr(y_train, y_train_preds)\n",
    "print(\"spearman rank correlation - train=\",corr, p_value)\n",
    "corr, p_value = spearmanr(y_test, y_test_preds)\n",
    "print(\"spearman rank correlation - test=\",corr, p_value)\n",
    "# RMSE\n",
    "print(\"RMSE - train=\", mean_squared_error(y_train, y_train_preds, squared=False))\n",
    "print(\"RMSE - test=\", mean_squared_error(y_test, y_test_preds, squared=False))"
   ]
  },
  {
   "cell_type": "markdown",
   "metadata": {},
   "source": [
    "## XGBoost Classifier - Model\n",
    "### Individual Dataset"
   ]
  },
  {
   "cell_type": "code",
   "execution_count": 48,
   "metadata": {},
   "outputs": [],
   "source": [
    "#defining input variables\n",
    "inputs = ['creationDate_indays', 'residentStatus','age_in_year','jointAccount',\n",
    "          'IsBlackListed', 'CUS_CLASS','profession_label',\n",
    "          'residentCountry_label', 'ledgerCode_label', 'accountCurrency_label',\n",
    "          'ECO_SEC_label', 'TYPE_OF_DEP_label', 'LEGAL_STA_CODE_label',\n",
    "          'avg_last_10_days_JOD', 'avg_last_30_days_JOD', 'avg_last_90_days_JOD',\n",
    "          'avg_cash_deposit_90_days_JOD', 'avg_of_dep_90_days_JOD',\n",
    "          'avg_of_cash_wd_90_days_JOD', 'avg_of_wd_90_days_JOD',\n",
    "          'number_of_cash_dep_90_days_freq',\n",
    "          'number_of_deposit_90_days_freq', 'number_of_cash_wd_90_days_freq',\n",
    "          'number_of_wd_90_days_freq']\n",
    "X_ind = df_individual[inputs]\n",
    "\n",
    "#defining output variables\n",
    "output_var = 'rbaGradeAbrv'\n",
    "y_ind=df_individual[output_var]"
   ]
  },
  {
   "cell_type": "code",
   "execution_count": 49,
   "metadata": {},
   "outputs": [
    {
     "data": {
      "text/plain": [
       "0    144104\n",
       "1     51229\n",
       "Name: TARGET, dtype: int64"
      ]
     },
     "execution_count": 49,
     "metadata": {},
     "output_type": "execute_result"
    }
   ],
   "source": [
    "#defining target\n",
    "df_individual['TARGET']=1*df_individual[output_var].isin(['H','M'])\n",
    "df_individual['TARGET'].value_counts()"
   ]
  },
  {
   "cell_type": "code",
   "execution_count": 50,
   "metadata": {},
   "outputs": [],
   "source": [
    "y_ind=df_individual['TARGET']\n",
    "\n",
    "#splitting data in train and test sets\n",
    "X_ind_train, X_ind_test, y_ind_train, y_ind_test = train_test_split(X_ind, y_ind, test_size=0.33, random_state=42)\n",
    "\n",
    "# Fitting classification model\n",
    "params = {'n_estimators': 150, 'learning_rate' : 0.1,'max_depth': 10, 'min_samples_split': 2,'random_state':42,\n",
    "          'max_features':'auto'}\n",
    "clf = GradientBoostingClassifier(**params)\n",
    "clf.fit(X_ind_train, y_ind_train)\n",
    "\n",
    "# Making predictions\n",
    "y_ind_train_preds = clf.predict(X_ind_train)\n",
    "y_ind_test_preds = clf.predict(X_ind_test)"
   ]
  },
  {
   "cell_type": "markdown",
   "metadata": {},
   "source": [
    "### Entities Dataset"
   ]
  },
  {
   "cell_type": "code",
   "execution_count": 51,
   "metadata": {},
   "outputs": [
    {
     "data": {
      "text/plain": [
       "L    13496\n",
       "M    11989\n",
       "H       82\n",
       "Name: rbaGradeAbrv, dtype: int64"
      ]
     },
     "execution_count": 51,
     "metadata": {},
     "output_type": "execute_result"
    }
   ],
   "source": [
    "#defining input variables\n",
    "inputs = ['creationDate_indays', 'residentStatus','jointAccount',\n",
    "          'IsBlackListed', 'CUS_CLASS','companyType',\n",
    "          'residentCountry_label', 'ledgerCode_label', 'accountCurrency_label',\n",
    "          'ECO_SEC_label', 'TYPE_OF_DEP_label', 'LEGAL_STA_CODE_label',\n",
    "          'avg_last_10_days_JOD', 'avg_last_30_days_JOD', 'avg_last_90_days_JOD',\n",
    "          'avg_cash_deposit_90_days_JOD', 'avg_of_dep_90_days_JOD',\n",
    "          'avg_of_cash_wd_90_days_JOD', 'avg_of_wd_90_days_JOD',\n",
    "          'number_of_cash_dep_90_days_freq',\n",
    "          'number_of_deposit_90_days_freq', 'number_of_cash_wd_90_days_freq',\n",
    "          'number_of_wd_90_days_freq']\n",
    "X_ent = df_entities[inputs]\n",
    "\n",
    "#defining output variables\n",
    "output_var = 'rbaGradeAbrv'\n",
    "y_ent=df_entities[output_var]\n",
    "df_entities[output_var].value_counts()"
   ]
  },
  {
   "cell_type": "code",
   "execution_count": 52,
   "metadata": {},
   "outputs": [
    {
     "data": {
      "text/plain": [
       "0    13496\n",
       "1    12071\n",
       "Name: TARGET, dtype: int64"
      ]
     },
     "execution_count": 52,
     "metadata": {},
     "output_type": "execute_result"
    }
   ],
   "source": [
    "#defining target\n",
    "df_entities['TARGET']=1*df_entities[output_var].isin(['H','M'])\n",
    "df_entities['TARGET'].value_counts()"
   ]
  },
  {
   "cell_type": "code",
   "execution_count": 53,
   "metadata": {},
   "outputs": [],
   "source": [
    "y_ent=df_entities['TARGET']\n",
    "\n",
    "#splitting data in train and test sets\n",
    "X_ent_train, X_ent_test, y_ent_train, y_ent_test = train_test_split(X_ent, y_ent, test_size=0.33, random_state=42)\n",
    "\n",
    "# Fitting classification model\n",
    "params = {'n_estimators': 150, 'learning_rate' : 0.1,'max_depth': 10, 'min_samples_split': 2,'random_state':42,\n",
    "          'max_features':'auto'}\n",
    "clf = GradientBoostingClassifier(**params)\n",
    "clf.fit(X_ent_train, y_ent_train)\n",
    "\n",
    "# Making predictions\n",
    "y_ent_train_preds = clf.predict(X_ent_train)\n",
    "y_ent_test_preds = clf.predict(X_ent_test)"
   ]
  },
  {
   "cell_type": "markdown",
   "metadata": {},
   "source": [
    "## XGBoost Classifier - Evaluation\n",
    "### Individual Dataset"
   ]
  },
  {
   "cell_type": "code",
   "execution_count": 54,
   "metadata": {},
   "outputs": [
    {
     "data": {
      "text/markdown": [
       "<b>Confusion Matrix:<b>"
      ],
      "text/plain": [
       "<IPython.core.display.Markdown object>"
      ]
     },
     "metadata": {},
     "output_type": "display_data"
    },
    {
     "name": "stdout",
     "output_type": "stream",
     "text": [
      "train:\n",
      " [[95102  1477]\n",
      " [10865 23429]] \n",
      "\n",
      "test:\n",
      " [[45748  1777]\n",
      " [ 6829 10106]]\n"
     ]
    },
    {
     "data": {
      "image/png": "[encoded data removed]",
      "text/plain": [
       "<Figure size 432x288 with 2 Axes>"
      ]
     },
     "metadata": {
      "needs_background": "light"
     },
     "output_type": "display_data"
    },
    {
     "data": {
      "image/png": "[encoded data removed]",
      "text/plain": [
       "<Figure size 432x288 with 2 Axes>"
      ]
     },
     "metadata": {},
     "output_type": "display_data"
    },
    {
     "data": {
      "text/markdown": [
       "<b>Classification Report:<b>"
      ],
      "text/plain": [
       "<IPython.core.display.Markdown object>"
      ]
     },
     "metadata": {},
     "output_type": "display_data"
    },
    {
     "name": "stdout",
     "output_type": "stream",
     "text": [
      "train report:\n",
      "               precision    recall  f1-score   support\n",
      "\n",
      "           0       0.90      0.98      0.94     96579\n",
      "           1       0.94      0.68      0.79     34294\n",
      "\n",
      "    accuracy                           0.91    130873\n",
      "   macro avg       0.92      0.83      0.87    130873\n",
      "weighted avg       0.91      0.91      0.90    130873\n",
      "\n",
      "test report:\n",
      "               precision    recall  f1-score   support\n",
      "\n",
      "           0       0.87      0.96      0.91     47525\n",
      "           1       0.85      0.60      0.70     16935\n",
      "\n",
      "    accuracy                           0.87     64460\n",
      "   macro avg       0.86      0.78      0.81     64460\n",
      "weighted avg       0.86      0.87      0.86     64460\n",
      "\n"
     ]
    },
    {
     "data": {
      "text/markdown": [
       "<b>Accuracy Scores:<b>"
      ],
      "text/plain": [
       "<IPython.core.display.Markdown object>"
      ]
     },
     "metadata": {},
     "output_type": "display_data"
    },
    {
     "name": "stdout",
     "output_type": "stream",
     "text": [
      "train: 0.9056948339229635\n",
      "test: 0.8664908470369221\n"
     ]
    }
   ],
   "source": [
    "#confusion matrix\n",
    "display(Markdown(\"<b>Confusion Matrix:<b>\"))\n",
    "print(\"train:\\n\",confusion_matrix(y_ind_train, y_ind_train_preds),'\\n')\n",
    "print(\"test:\\n\",confusion_matrix(y_ind_test, y_ind_test_preds))\n",
    "\n",
    "# Get and reshape confusion matrix data\n",
    "matrix_ind_train = confusion_matrix(y_ind_train, y_ind_train_preds)\n",
    "matrix_ind_train = matrix_ind_train.astype('float') / matrix_ind_train.sum(axis=1)[:, np.newaxis]\n",
    "\n",
    "matrix_ind_test = confusion_matrix(y_ind_test, y_ind_test_preds)\n",
    "matrix_ind_test = matrix_ind_test.astype('float') / matrix_ind_test.sum(axis=1)[:, np.newaxis]\n",
    "\n",
    "# Build the plot\n",
    "plt.figure(figsize=(6,4))\n",
    "sns.set(font_scale=1.4)\n",
    "sns.heatmap(matrix_ind_train, annot=True, annot_kws={'size':10},\n",
    "            cmap=plt.cm.Greens, linewidths=0.2)\n",
    "# Add labels to the plot\n",
    "class_names = ['H','L']\n",
    "tick_marks = np.arange(len(class_names)) + 0.5\n",
    "plt.xticks(tick_marks, class_names, rotation=0)\n",
    "plt.yticks(tick_marks, class_names, rotation=0)\n",
    "plt.xlabel('Predicted')\n",
    "plt.ylabel('True')\n",
    "plt.title('Confusion Matrix for XGBoost Classifier Model with Train Set')\n",
    "plt.show()\n",
    "\n",
    "plt.figure(figsize=(6,4))\n",
    "sns.set(font_scale=1.4)\n",
    "sns.heatmap(matrix_ind_test, annot=True, annot_kws={'size':10},\n",
    "            cmap=plt.cm.Greens, linewidths=0.2)\n",
    "# Add labels to the plot\n",
    "class_names = ['H','L']\n",
    "tick_marks = np.arange(len(class_names)) + 0.5\n",
    "plt.xticks(tick_marks, class_names, rotation=0)\n",
    "plt.yticks(tick_marks, class_names, rotation=0)\n",
    "plt.xlabel('Predicted')\n",
    "plt.ylabel('True')\n",
    "plt.title('Confusion Matrix for XGBoost Classifier Model with Test')\n",
    "plt.show()\n",
    "\n",
    "#classification report\n",
    "display(Markdown(\"<b>Classification Report:<b>\"))\n",
    "print(\"train report:\\n\",classification_report(y_ind_train, y_ind_train_preds))\n",
    "print(\"test report:\\n\",classification_report(y_ind_test, y_ind_test_preds))\n",
    "\n",
    "display(Markdown(\"<b>Accuracy Scores:<b>\"))\n",
    "a_score = accuracy_score(y_ind_train, y_ind_train_preds)\n",
    "print(\"train:\",a_score)\n",
    "a_score = accuracy_score(y_ind_test, y_ind_test_preds)\n",
    "print(\"test:\",a_score)"
   ]
  },
  {
   "cell_type": "markdown",
   "metadata": {},
   "source": [
    "### Entities Dataset"
   ]
  },
  {
   "cell_type": "code",
   "execution_count": 55,
   "metadata": {},
   "outputs": [
    {
     "data": {
      "text/markdown": [
       "<b>Confusion Matrix:<b>"
      ],
      "text/plain": [
       "<IPython.core.display.Markdown object>"
      ]
     },
     "metadata": {},
     "output_type": "display_data"
    },
    {
     "name": "stdout",
     "output_type": "stream",
     "text": [
      "train:\n",
      " [[9066   10]\n",
      " [  29 8024]] \n",
      "\n",
      "test:\n",
      " [[4341   79]\n",
      " [ 161 3857]]\n"
     ]
    },
    {
     "data": {
      "image/png": "[encoded data removed]",
      "text/plain": [
       "<Figure size 432x288 with 2 Axes>"
      ]
     },
     "metadata": {},
     "output_type": "display_data"
    },
    {
     "data": {
      "image/png": "[encoded data removed]",
      "text/plain": [
       "<Figure size 432x288 with 2 Axes>"
      ]
     },
     "metadata": {},
     "output_type": "display_data"
    },
    {
     "data": {
      "text/markdown": [
       "<b>Classification Report:<b>"
      ],
      "text/plain": [
       "<IPython.core.display.Markdown object>"
      ]
     },
     "metadata": {},
     "output_type": "display_data"
    },
    {
     "name": "stdout",
     "output_type": "stream",
     "text": [
      "train report:\n",
      "               precision    recall  f1-score   support\n",
      "\n",
      "           0       1.00      1.00      1.00      9076\n",
      "           1       1.00      1.00      1.00      8053\n",
      "\n",
      "    accuracy                           1.00     17129\n",
      "   macro avg       1.00      1.00      1.00     17129\n",
      "weighted avg       1.00      1.00      1.00     17129\n",
      "\n",
      "test report:\n",
      "               precision    recall  f1-score   support\n",
      "\n",
      "           0       0.96      0.98      0.97      4420\n",
      "           1       0.98      0.96      0.97      4018\n",
      "\n",
      "    accuracy                           0.97      8438\n",
      "   macro avg       0.97      0.97      0.97      8438\n",
      "weighted avg       0.97      0.97      0.97      8438\n",
      "\n"
     ]
    },
    {
     "data": {
      "text/markdown": [
       "<b>Accuracy Scores:<b>"
      ],
      "text/plain": [
       "<IPython.core.display.Markdown object>"
      ]
     },
     "metadata": {},
     "output_type": "display_data"
    },
    {
     "name": "stdout",
     "output_type": "stream",
     "text": [
      "train: 0.9977231595539728\n",
      "test: 0.9715572410523821\n"
     ]
    }
   ],
   "source": [
    "#confusion matrix\n",
    "display(Markdown(\"<b>Confusion Matrix:<b>\"))\n",
    "print(\"train:\\n\",confusion_matrix(y_ent_train, y_ent_train_preds),'\\n')\n",
    "print(\"test:\\n\",confusion_matrix(y_ent_test, y_ent_test_preds))\n",
    "\n",
    "# Get and reshape confusion matrix data\n",
    "matrix_ent_train = confusion_matrix(y_ent_train, y_ent_train_preds)\n",
    "matrix_ent_train = matrix_ent_train.astype('float') / matrix_ent_train.sum(axis=1)[:, np.newaxis]\n",
    "\n",
    "matrix_ent_test = confusion_matrix(y_ent_test, y_ent_test_preds)\n",
    "matrix_ent_test = matrix_ent_test.astype('float') / matrix_ent_test.sum(axis=1)[:, np.newaxis]\n",
    "\n",
    "# Build the plot\n",
    "plt.figure(figsize=(6,4))\n",
    "sns.set(font_scale=1.4)\n",
    "sns.heatmap(matrix_ent_train, annot=True, annot_kws={'size':10},\n",
    "            cmap=plt.cm.Greens, linewidths=0.2)\n",
    "# Add labels to the plot\n",
    "class_names = ['H','L']\n",
    "tick_marks = np.arange(len(class_names)) + 0.5\n",
    "plt.xticks(tick_marks, class_names, rotation=0)\n",
    "plt.yticks(tick_marks, class_names, rotation=0)\n",
    "plt.xlabel('Predicted')\n",
    "plt.ylabel('True')\n",
    "plt.title('Confusion Matrix for XGBoost Classifier Model with Train Set')\n",
    "plt.show()\n",
    "\n",
    "plt.figure(figsize=(6,4))\n",
    "sns.set(font_scale=1.4)\n",
    "sns.heatmap(matrix_ent_test, annot=True, annot_kws={'size':10},\n",
    "            cmap=plt.cm.Greens, linewidths=0.2)\n",
    "# Add labels to the plot\n",
    "class_names = ['H','L']\n",
    "tick_marks = np.arange(len(class_names)) + 0.5\n",
    "plt.xticks(tick_marks, class_names, rotation=0)\n",
    "plt.yticks(tick_marks, class_names, rotation=0)\n",
    "plt.xlabel('Predicted')\n",
    "plt.ylabel('True')\n",
    "plt.title('Confusion Matrix for XGBoost Classifier Model with Test')\n",
    "plt.show()\n",
    "\n",
    "#classification report\n",
    "display(Markdown(\"<b>Classification Report:<b>\"))\n",
    "print(\"train report:\\n\",classification_report(y_ent_train, y_ent_train_preds))\n",
    "print(\"test report:\\n\",classification_report(y_ent_test, y_ent_test_preds))\n",
    "\n",
    "display(Markdown(\"<b>Accuracy Scores:<b>\"))\n",
    "a_score = accuracy_score(y_ent_train, y_ent_train_preds)\n",
    "print(\"train:\",a_score)\n",
    "a_score = accuracy_score(y_ent_test, y_ent_test_preds)\n",
    "print(\"test:\",a_score)"
   ]
  },
  {
   "cell_type": "markdown",
   "metadata": {},
   "source": [
    "### Combined Evalutation"
   ]
  },
  {
   "cell_type": "code",
   "execution_count": 56,
   "metadata": {},
   "outputs": [
    {
     "data": {
      "text/markdown": [
       "<b>Confusion Matrix:<b>"
      ],
      "text/plain": [
       "<IPython.core.display.Markdown object>"
      ]
     },
     "metadata": {},
     "output_type": "display_data"
    },
    {
     "name": "stdout",
     "output_type": "stream",
     "text": [
      "train:\n",
      " [[104168   1487]\n",
      " [ 10894  31453]] \n",
      "\n",
      "test:\n",
      " [[50089  1856]\n",
      " [ 6990 13963]] \n",
      "\n"
     ]
    },
    {
     "data": {
      "image/png": "[encoded data removed]",
      "text/plain": [
       "<Figure size 432x288 with 2 Axes>"
      ]
     },
     "metadata": {},
     "output_type": "display_data"
    },
    {
     "data": {
      "image/png": "[encoded data removed]",
      "text/plain": [
       "<Figure size 432x288 with 2 Axes>"
      ]
     },
     "metadata": {},
     "output_type": "display_data"
    },
    {
     "data": {
      "text/markdown": [
       "<b>Classification Report:<b>"
      ],
      "text/plain": [
       "<IPython.core.display.Markdown object>"
      ]
     },
     "metadata": {},
     "output_type": "display_data"
    },
    {
     "name": "stdout",
     "output_type": "stream",
     "text": [
      "train report:\n",
      "               precision    recall  f1-score   support\n",
      "\n",
      "           0       0.91      0.99      0.94    105655\n",
      "           1       0.95      0.74      0.84     42347\n",
      "\n",
      "    accuracy                           0.92    148002\n",
      "   macro avg       0.93      0.86      0.89    148002\n",
      "weighted avg       0.92      0.92      0.91    148002\n",
      "\n",
      "test report:\n",
      "               precision    recall  f1-score   support\n",
      "\n",
      "           0       0.88      0.96      0.92     51945\n",
      "           1       0.88      0.67      0.76     20953\n",
      "\n",
      "    accuracy                           0.88     72898\n",
      "   macro avg       0.88      0.82      0.84     72898\n",
      "weighted avg       0.88      0.88      0.87     72898\n",
      "\n"
     ]
    },
    {
     "data": {
      "text/markdown": [
       "<b>Accuracy Scores:<b>"
      ],
      "text/plain": [
       "<IPython.core.display.Markdown object>"
      ]
     },
     "metadata": {},
     "output_type": "display_data"
    },
    {
     "name": "stdout",
     "output_type": "stream",
     "text": [
      "train: 0.9163457250577695\n",
      "test: 0.8786523635765041\n"
     ]
    }
   ],
   "source": [
    "y_train = pd.concat([y_ind_train,y_ent_train])\n",
    "y_train_preds = np.concatenate((y_ind_train_preds,y_ent_train_preds))\n",
    "y_test = pd.concat([y_ind_test,y_ent_test])\n",
    "y_test_preds = np.concatenate((y_ind_test_preds,y_ent_test_preds))\n",
    "\n",
    "#confusion matrix\n",
    "display(Markdown(\"<b>Confusion Matrix:<b>\"))\n",
    "print(\"train:\\n\",confusion_matrix(y_train, y_train_preds),'\\n')\n",
    "print(\"test:\\n\",confusion_matrix(y_test, y_test_preds),'\\n')\n",
    "\n",
    "# Get and reshape confusion matrix data\n",
    "matrix_train = confusion_matrix(y_train, y_train_preds)\n",
    "matrix_train = matrix_train.astype('float') / matrix_train.sum(axis=1)[:, np.newaxis]\n",
    "\n",
    "matrix_test = confusion_matrix(y_test, y_test_preds)\n",
    "matrix_test = matrix_test.astype('float') / matrix_test.sum(axis=1)[:, np.newaxis]\n",
    "\n",
    "# Build the plot\n",
    "plt.figure(figsize=(6,4))\n",
    "sns.set(font_scale=1.4)\n",
    "sns.heatmap(matrix_train, annot=True, annot_kws={'size':10},\n",
    "            cmap=plt.cm.Greens, linewidths=0.2)\n",
    "# Add labels to the plot\n",
    "class_names = ['H','L']\n",
    "tick_marks = np.arange(len(class_names)) + 0.5\n",
    "plt.xticks(tick_marks, class_names, rotation=0)\n",
    "plt.yticks(tick_marks, class_names, rotation=0)\n",
    "plt.xlabel('Predicted')\n",
    "plt.ylabel('True')\n",
    "plt.title('Confusion Matrix for XGBoost Classifier Model with Train Set')\n",
    "plt.show()\n",
    "\n",
    "plt.figure(figsize=(6,4))\n",
    "sns.set(font_scale=1.4)\n",
    "sns.heatmap(matrix_test, annot=True, annot_kws={'size':10},\n",
    "            cmap=plt.cm.Greens, linewidths=0.2)\n",
    "# Add labels to the plot\n",
    "class_names = ['H','L']\n",
    "tick_marks = np.arange(len(class_names)) + 0.5\n",
    "plt.xticks(tick_marks, class_names, rotation=0)\n",
    "plt.yticks(tick_marks, class_names, rotation=0)\n",
    "plt.xlabel('Predicted')\n",
    "plt.ylabel('True')\n",
    "plt.title('Confusion Matrix for XGBoost Classifier Model with Test')\n",
    "plt.show()\n",
    "\n",
    "#classification report\n",
    "display(Markdown(\"<b>Classification Report:<b>\"))\n",
    "print(\"train report:\\n\",classification_report(y_train, y_train_preds))\n",
    "print(\"test report:\\n\",classification_report(y_test, y_test_preds))\n",
    "\n",
    "display(Markdown(\"<b>Accuracy Scores:<b>\"))\n",
    "a_score = accuracy_score(y_train, y_train_preds)\n",
    "print(\"train:\",a_score)\n",
    "a_score = accuracy_score(y_test, y_test_preds)\n",
    "print(\"test:\",a_score)"
   ]
  }
 ],
 "metadata": {
  "kernelspec": {
   "display_name": "Python 3",
   "language": "python",
   "name": "python3"
  },
  "language_info": {
   "codemirror_mode": {
    "name": "ipython",
    "version": 3
   },
   "file_extension": ".py",
   "mimetype": "text/x-python",
   "name": "python",
   "nbconvert_exporter": "python",
   "pygments_lexer": "ipython3",
   "version": "3.8.5"
  }
 },
 "nbformat": 4,
 "nbformat_minor": 5
}
